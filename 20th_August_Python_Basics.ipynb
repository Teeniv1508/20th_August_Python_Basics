{
 "cells": [
  {
   "cell_type": "code",
   "execution_count": 1,
   "id": "854a5154-cabf-42a5-a78a-a51b979aef1f",
   "metadata": {},
   "outputs": [],
   "source": [
    "#TOPIC: String Based Assignment Problem"
   ]
  },
  {
   "cell_type": "code",
   "execution_count": 2,
   "id": "e4a80603-a2a2-457b-8688-f0b833d2ae02",
   "metadata": {},
   "outputs": [
    {
     "name": "stdin",
     "output_type": "stream",
     "text": [
      " My name is Darwin Nunez\n"
     ]
    },
    {
     "name": "stdout",
     "output_type": "stream",
     "text": [
      "reverse string : zenuN niwraD si eman yM\n"
     ]
    }
   ],
   "source": [
    "#1. Write a program to reverse a string.\n",
    "strr1 = input()\n",
    "#reverse the string\n",
    "strrev = strr1[::-1]\n",
    "print(f\"reverse string : {strrev}\")"
   ]
  },
  {
   "cell_type": "code",
   "execution_count": 3,
   "id": "40a9ec1c-818e-4b63-abcf-401a68db8008",
   "metadata": {},
   "outputs": [
    {
     "name": "stdin",
     "output_type": "stream",
     "text": [
      " madam\n"
     ]
    },
    {
     "name": "stdout",
     "output_type": "stream",
     "text": [
      "String is palindrome\n"
     ]
    }
   ],
   "source": [
    "#2. Check if a string is a palindrome.\n",
    "strr2 = input()\n",
    "#reverse the string\n",
    "strrevv = strr2[::-1]\n",
    "if strrevv == strr2:\n",
    "    print(f\"String is palindrome\")\n",
    "else:\n",
    "    print(f\"String is not palindrome\")"
   ]
  },
  {
   "cell_type": "code",
   "execution_count": 4,
   "id": "a12234a4-8711-4379-87e1-471857c95fea",
   "metadata": {},
   "outputs": [
    {
     "name": "stdin",
     "output_type": "stream",
     "text": [
      " my name is mbappe\n"
     ]
    },
    {
     "name": "stdout",
     "output_type": "stream",
     "text": [
      "upper case string : MY NAME IS MBAPPE\n"
     ]
    }
   ],
   "source": [
    "#3. Convert a string to uppercase.\n",
    "strup = input()\n",
    "strupp = strup.upper()\n",
    "print(f\"upper case string : {strupp}\")"
   ]
  },
  {
   "cell_type": "code",
   "execution_count": 5,
   "id": "e1403392-8a8c-4900-b0a9-3fbc4e97d26a",
   "metadata": {},
   "outputs": [
    {
     "name": "stdin",
     "output_type": "stream",
     "text": [
      " MY NAME IS MBAPPE\n"
     ]
    },
    {
     "name": "stdout",
     "output_type": "stream",
     "text": [
      "LOWER case string : my name is mbappe\n"
     ]
    }
   ],
   "source": [
    "#4. Convert a string to lowercase.\n",
    "strlc = input()\n",
    "strlcc = strup.lower()\n",
    "print(f\"LOWER case string : {strlcc}\")"
   ]
  },
  {
   "cell_type": "code",
   "execution_count": 6,
   "id": "1fd6cb6f-8a62-4d0e-a59d-d320b4002f65",
   "metadata": {},
   "outputs": [
    {
     "name": "stdin",
     "output_type": "stream",
     "text": [
      " My name is Vineet Bhoge\n"
     ]
    },
    {
     "name": "stdout",
     "output_type": "stream",
     "text": [
      "no of vowels in string : 8\n"
     ]
    }
   ],
   "source": [
    "#5. Count the number of vowels in a string.\n",
    "strv = input()\n",
    "vowels = 'AEIOUaeiou'\n",
    "count  = 0\n",
    "for char in strv:\n",
    "    if char in vowels:\n",
    "        count = count + 1\n",
    "print(f\"no of vowels in string : {count}\")"
   ]
  },
  {
   "cell_type": "code",
   "execution_count": 7,
   "id": "64e40425-994b-4bf0-be58-10936f46f13f",
   "metadata": {},
   "outputs": [
    {
     "name": "stdin",
     "output_type": "stream",
     "text": [
      " My name is Vineet Bhoge\n"
     ]
    },
    {
     "name": "stdout",
     "output_type": "stream",
     "text": [
      "no of consonants in string : 11\n"
     ]
    }
   ],
   "source": [
    "#6. Count the number of consonants in a string.\n",
    "strc = input()\n",
    "vowels = 'AEIOUaeiou'\n",
    "count  = 0\n",
    "for char in strc:\n",
    "    if char.isalpha() and char not in vowels:\n",
    "        count = count + 1\n",
    "print(f\"no of consonants in string : {count}\")"
   ]
  },
  {
   "cell_type": "code",
   "execution_count": 8,
   "id": "7ad7b2b3-4813-48b1-8ba4-4f05ca3d1873",
   "metadata": {},
   "outputs": [
    {
     "name": "stdin",
     "output_type": "stream",
     "text": [
      " My name is Vineet Bhoge\n"
     ]
    },
    {
     "name": "stdout",
     "output_type": "stream",
     "text": [
      " string without spaces : MynameisVineetBhoge\n"
     ]
    }
   ],
   "source": [
    "#7. Remove all whitespaces from a string.\n",
    "strw = input()\n",
    "strws = strw.replace(' ','')\n",
    "print(f\" string without spaces : {strws}\")"
   ]
  },
  {
   "cell_type": "code",
   "execution_count": 9,
   "id": "a639e1d1-a0ad-4d0c-a3d3-70dec7e96eb1",
   "metadata": {},
   "outputs": [
    {
     "name": "stdin",
     "output_type": "stream",
     "text": [
      " My name is Vineet Bhoge\n"
     ]
    },
    {
     "name": "stdout",
     "output_type": "stream",
     "text": [
      " Lenght of string : 23\n"
     ]
    }
   ],
   "source": [
    "#8. Find the length of a string without using the `len()` function.\n",
    "strl = input()\n",
    "count = 0\n",
    "for char in strl:\n",
    "    count = count + 1\n",
    "print(f\" Lenght of string : {count}\")"
   ]
  },
  {
   "cell_type": "code",
   "execution_count": 10,
   "id": "a2ecdefc-4b5b-42f9-9587-57b738c7cee5",
   "metadata": {},
   "outputs": [
    {
     "name": "stdin",
     "output_type": "stream",
     "text": [
      " My name is Lionel Messi\n",
      " name\n"
     ]
    },
    {
     "name": "stdout",
     "output_type": "stream",
     "text": [
      "Present in string\n"
     ]
    }
   ],
   "source": [
    "#9. Check if a string contains a specific word.\n",
    "strsw = input()\n",
    "strss = input()\n",
    "if strss in strsw:\n",
    "        print(f\"Present in string\")\n",
    "else:\n",
    "        print(f\"Not present in string\")"
   ]
  },
  {
   "cell_type": "code",
   "execution_count": 12,
   "id": "6af3186e-103c-49d3-bf72-98efe2cb27fa",
   "metadata": {},
   "outputs": [
    {
     "name": "stdin",
     "output_type": "stream",
     "text": [
      " My name is Mohini Patil\n",
      " Patil\n",
      " Bhoge\n"
     ]
    },
    {
     "name": "stdout",
     "output_type": "stream",
     "text": [
      "My name is Mohini Bhoge\n"
     ]
    }
   ],
   "source": [
    "#10. Replace a word in a string with another word.\n",
    "strst = input()\n",
    "strp = input()\n",
    "strrp = input()\n",
    "l = strst.split()\n",
    "a = len(l)\n",
    "for i in range (0,a):\n",
    "    if l[i] == strp:\n",
    "        l[i] = strrp\n",
    "sen = ' '.join(l)\n",
    "print(sen)"
   ]
  },
  {
   "cell_type": "code",
   "execution_count": 14,
   "id": "a4e5c8b4-6e8b-428e-9e29-7f80669d11b9",
   "metadata": {},
   "outputs": [
    {
     "name": "stdin",
     "output_type": "stream",
     "text": [
      " my name is my name not your name\n",
      " name\n"
     ]
    },
    {
     "name": "stdout",
     "output_type": "stream",
     "text": [
      "no of occurence : 3\n"
     ]
    }
   ],
   "source": [
    "#11. Count the occurrences of a word in a string.\n",
    "stro = input()\n",
    "strc = input()\n",
    "count = 0\n",
    "l1 = stro.split()\n",
    "b = len(l1)\n",
    "for i in range(0,b):\n",
    "    if l1[i] == strc:\n",
    "        count = count+1\n",
    "print(f\"no of occurence : {count}\")"
   ]
  },
  {
   "cell_type": "code",
   "execution_count": 17,
   "id": "c6a6a483-0369-49af-974d-53750194147e",
   "metadata": {},
   "outputs": [
    {
     "name": "stdin",
     "output_type": "stream",
     "text": [
      " my name is vineet bhoge\n",
      " bhoge\n"
     ]
    },
    {
     "name": "stdout",
     "output_type": "stream",
     "text": [
      "Word is present at this index : 18\n"
     ]
    }
   ],
   "source": [
    "#12. Find the first occurrence of a word in a string.\n",
    "strof = input()\n",
    "strfd = input()\n",
    "c = strof.find(strfd)\n",
    "if c!=-1:\n",
    "    print(f\"Word is present at this index : {c}\")\n",
    "else:\n",
    "     print(f\"Word not found\")"
   ]
  },
  {
   "cell_type": "code",
   "execution_count": 18,
   "id": "ae1ca678-d9bf-42ef-a44f-0ece693d22d8",
   "metadata": {},
   "outputs": [
    {
     "name": "stdin",
     "output_type": "stream",
     "text": [
      " my name is vineet name\n",
      " name\n"
     ]
    },
    {
     "name": "stdout",
     "output_type": "stream",
     "text": [
      "Word is present at this index : 18\n"
     ]
    }
   ],
   "source": [
    "#13. Find the last occurrence of a word in a string.\n",
    "strlo = input()\n",
    "strfdlo = input()\n",
    "d = strlo.rfind(strfdlo)\n",
    "if d!=-1:\n",
    "    print(f\"Word is present at this index : {d}\")\n",
    "else:\n",
    "     print(f\"Word not found\")"
   ]
  },
  {
   "cell_type": "code",
   "execution_count": 19,
   "id": "6f98f767-d73a-4ff0-882a-28818142907a",
   "metadata": {},
   "outputs": [
    {
     "name": "stdin",
     "output_type": "stream",
     "text": [
      " My name is Muthai Muralidharan\n"
     ]
    },
    {
     "name": "stdout",
     "output_type": "stream",
     "text": [
      "['My', 'name', 'is', 'Muthai', 'Muralidharan']\n"
     ]
    }
   ],
   "source": [
    "#14. Split a string into a list of words.\n",
    "stl = input()\n",
    "ll = stl.split()\n",
    "print(ll)"
   ]
  },
  {
   "cell_type": "code",
   "execution_count": 20,
   "id": "19504a8a-e211-471c-b2ef-1c3b85c02b28",
   "metadata": {},
   "outputs": [
    {
     "name": "stdin",
     "output_type": "stream",
     "text": [
      " my name is vini jnr\n"
     ]
    },
    {
     "name": "stdout",
     "output_type": "stream",
     "text": [
      "['my', 'name', 'is', 'vini', 'jnr']\n",
      "my name is vini jnr\n"
     ]
    }
   ],
   "source": [
    "#15. Join a list of words into a string.\n",
    "li = input().split()\n",
    "print(li)\n",
    "e = ' '.join(li)\n",
    "print(e)"
   ]
  },
  {
   "cell_type": "code",
   "execution_count": 21,
   "id": "911626e2-e25b-478d-b672-0fc31e461da1",
   "metadata": {},
   "outputs": [
    {
     "name": "stdin",
     "output_type": "stream",
     "text": [
      " my name is vineet bhoge\n"
     ]
    },
    {
     "name": "stdout",
     "output_type": "stream",
     "text": [
      "my_name_is_vineet_bhoge\n"
     ]
    }
   ],
   "source": [
    "#16. Convert a string where words are separated by spaces to one where words are separated by underscores.\n",
    "strsp = input()\n",
    "strj = strsp.replace(' ','_')\n",
    "print(strj)"
   ]
  },
  {
   "cell_type": "code",
   "execution_count": 22,
   "id": "929ff57c-5e11-4609-9cba-5196cfacaa76",
   "metadata": {},
   "outputs": [
    {
     "name": "stdin",
     "output_type": "stream",
     "text": [
      " Dimaria scores a goal\n",
      " Dimaria\n"
     ]
    },
    {
     "name": "stdout",
     "output_type": "stream",
     "text": [
      "String start with phrase\n"
     ]
    }
   ],
   "source": [
    "#17. Check if a string starts with a specific word or phrase.\n",
    "strsw = input()\n",
    "strp = input()\n",
    "if strsw.startswith(strp):\n",
    "    print(f\"String start with phrase\")\n",
    "else:\n",
    "    print(f\"String does not start with phrase\")"
   ]
  },
  {
   "cell_type": "code",
   "execution_count": 23,
   "id": "6d77ef04-a5bb-4395-9b7d-6fa3f3536bb7",
   "metadata": {},
   "outputs": [
    {
     "name": "stdin",
     "output_type": "stream",
     "text": [
      " My name is Nico Gonzales\n",
      " Gonzales\n"
     ]
    },
    {
     "name": "stdout",
     "output_type": "stream",
     "text": [
      "String end with phrase\n"
     ]
    }
   ],
   "source": [
    "#18. Check if a string ends with a specific word or phrase.\n",
    "strew = input()\n",
    "strep = input()\n",
    "if strew.endswith(strep):\n",
    "    print(f\"String end with phrase\")\n",
    "else:\n",
    "    print(f\"String does not end with phrase\")"
   ]
  },
  {
   "cell_type": "code",
   "execution_count": 24,
   "id": "b8116700-ef29-4b3d-b926-d224f2644af1",
   "metadata": {},
   "outputs": [
    {
     "name": "stdin",
     "output_type": "stream",
     "text": [
      " my name is fedrico chesia\n"
     ]
    },
    {
     "name": "stdout",
     "output_type": "stream",
     "text": [
      "My Name Is Fedrico Chesia\n"
     ]
    }
   ],
   "source": [
    "#19. Convert a string to title case (e.g., \"hello world\" to \"Hello World\").\n",
    "strt = input()\n",
    "strtt = strt.title()\n",
    "print(strtt)"
   ]
  },
  {
   "cell_type": "code",
   "execution_count": 26,
   "id": "6fe702c7-25c9-4e81-9955-d8ee760b663f",
   "metadata": {},
   "outputs": [
    {
     "name": "stdin",
     "output_type": "stream",
     "text": [
      " my name is vinicius njr\n"
     ]
    },
    {
     "name": "stdout",
     "output_type": "stream",
     "text": [
      "vinicius\n"
     ]
    }
   ],
   "source": [
    "#20. Find the longest word in a string.\n",
    "stlo = input()\n",
    "low = stlo.split()\n",
    "co = max(low,key=len)\n",
    "print(co)"
   ]
  },
  {
   "cell_type": "code",
   "execution_count": 29,
   "id": "e9a2b4a4-e0fa-45b0-aa12-d5cd2de69257",
   "metadata": {},
   "outputs": [
    {
     "name": "stdin",
     "output_type": "stream",
     "text": [
      " My name is vinicius jnr\n"
     ]
    },
    {
     "name": "stdout",
     "output_type": "stream",
     "text": [
      "My\n"
     ]
    }
   ],
   "source": [
    "#21. Find the shortest word in a string.\n",
    "stsh = input()\n",
    "short = stsh.split()\n",
    "cot = min(short,key=len)\n",
    "print(cot)"
   ]
  },
  {
   "cell_type": "code",
   "execution_count": 32,
   "id": "0ab5b0a7-f4d1-4d91-a88c-9a89291eebcc",
   "metadata": {},
   "outputs": [
    {
     "name": "stdin",
     "output_type": "stream",
     "text": [
      " My name is Lautaro Martinez\n"
     ]
    },
    {
     "name": "stdout",
     "output_type": "stream",
     "text": [
      "Martinez Lautaro is name My\n"
     ]
    }
   ],
   "source": [
    "#22. Reverse the order of words in a string.\n",
    "strrod = input().split()\n",
    "ls = strrod[::-1]\n",
    "sl = ' '.join(ls)\n",
    "print(sl)"
   ]
  },
  {
   "cell_type": "code",
   "execution_count": 39,
   "id": "d58a1226-aa00-471c-b330-58234b4a5a63",
   "metadata": {},
   "outputs": [
    {
     "name": "stdin",
     "output_type": "stream",
     "text": [
      " S1032191273\n"
     ]
    },
    {
     "data": {
      "text/plain": [
       "True"
      ]
     },
     "execution_count": 39,
     "metadata": {},
     "output_type": "execute_result"
    }
   ],
   "source": [
    "#23. Check if a string is alphanumeric.\n",
    "stran = input()\n",
    "stran.isalnum()"
   ]
  },
  {
   "cell_type": "code",
   "execution_count": 40,
   "id": "e7f71b7a-96a7-41f1-80d9-13fa11334e1b",
   "metadata": {},
   "outputs": [
    {
     "name": "stdin",
     "output_type": "stream",
     "text": [
      " My12 Name 34\n"
     ]
    },
    {
     "name": "stdout",
     "output_type": "stream",
     "text": [
      "1234\n"
     ]
    }
   ],
   "source": [
    "#24. Extract all digits from a string.\n",
    "strn = input()\n",
    "digi = ''.join(char for char in strn if char.isdigit())\n",
    "print(digi)"
   ]
  },
  {
   "cell_type": "code",
   "execution_count": 41,
   "id": "24dd6891-2c25-480f-ae77-815f6a732701",
   "metadata": {},
   "outputs": [
    {
     "name": "stdin",
     "output_type": "stream",
     "text": [
      " my12 name 34 vinee66\n"
     ]
    },
    {
     "name": "stdout",
     "output_type": "stream",
     "text": [
      "mynamevinee\n"
     ]
    }
   ],
   "source": [
    "#25. Extract all alphabets from a string.\n",
    "stra = input()\n",
    "alp = ''.join(char for char in stra if char.isalpha())\n",
    "print(alp)"
   ]
  },
  {
   "cell_type": "code",
   "execution_count": 43,
   "id": "f0015d87-fa36-4e58-adb1-b9f8cd5a1288",
   "metadata": {},
   "outputs": [
    {
     "name": "stdin",
     "output_type": "stream",
     "text": [
      " My name Is Vineet Bhoge\n"
     ]
    },
    {
     "name": "stdout",
     "output_type": "stream",
     "text": [
      "MIVB\n",
      "4\n"
     ]
    }
   ],
   "source": [
    "#26. Count the number of uppercase letters in a string.\n",
    "strup = input()\n",
    "up = ''.join(char for char in strup if char.isupper())\n",
    "print(up)\n",
    "lup = len(up)\n",
    "print(lup)"
   ]
  },
  {
   "cell_type": "code",
   "execution_count": 44,
   "id": "249ace1e-41b0-4c0e-b8bd-34e3ffc3f268",
   "metadata": {},
   "outputs": [
    {
     "name": "stdin",
     "output_type": "stream",
     "text": [
      " My name is Vineet Bhoge\n"
     ]
    },
    {
     "name": "stdout",
     "output_type": "stream",
     "text": [
      "ynameisineethoge\n",
      "16\n"
     ]
    }
   ],
   "source": [
    "#27. Count the number of lowercase letters in a string.\n",
    "strlw = input()\n",
    "lw = ''.join(char for char in strlw if char.islower())\n",
    "print(lw)\n",
    "llc = len(lw)\n",
    "print(llc)"
   ]
  },
  {
   "cell_type": "code",
   "execution_count": 45,
   "id": "d19c749a-bfcf-4994-ac3e-d9c5c5691a37",
   "metadata": {},
   "outputs": [
    {
     "name": "stdin",
     "output_type": "stream",
     "text": [
      " My name is Vineet Bhoge\n"
     ]
    },
    {
     "name": "stdout",
     "output_type": "stream",
     "text": [
      "mY NAME IS vINEET bHOGE\n"
     ]
    }
   ],
   "source": [
    "#28. Swap the case of each character in a string.\n",
    "strsc = input()\n",
    "strswc = strsc.swapcase()\n",
    "print(strswc)"
   ]
  },
  {
   "cell_type": "code",
   "execution_count": 49,
   "id": "2f7d72d4-352a-4541-8721-60ee01741ea8",
   "metadata": {},
   "outputs": [
    {
     "name": "stdin",
     "output_type": "stream",
     "text": [
      " My name is Vineet D Bhoge\n",
      " Bhoge\n"
     ]
    },
    {
     "name": "stdout",
     "output_type": "stream",
     "text": [
      "My name is Vineet D\n"
     ]
    }
   ],
   "source": [
    "#29. Remove a specific word from a string.\n",
    "strst = input()\n",
    "strstt = input()\n",
    "fwr = ( word for word in strst.split() if word!=strstt)\n",
    "fwrj = ' '.join(fwr)\n",
    "print(fwrj)"
   ]
  },
  {
   "cell_type": "code",
   "execution_count": 50,
   "id": "4907f009-e766-4271-b84b-392424ec317f",
   "metadata": {},
   "outputs": [
    {
     "name": "stdin",
     "output_type": "stream",
     "text": [
      " vineetbhoge15@gmail.com\n"
     ]
    },
    {
     "name": "stdout",
     "output_type": "stream",
     "text": [
      "Valid email id\n"
     ]
    }
   ],
   "source": [
    "#30. Check if a string is a valid email address.\n",
    "import re\n",
    "emailstr = input()\n",
    "pattern = r'^[a-zA-Z0-9._%+-]+@[a-zA-Z0-9.-]+\\.[a-zA-Z]{2,}$'\n",
    "if re.match(pattern,emailstr):\n",
    "    print(f\"Valid email id\")\n",
    "else:\n",
    "    print(f\"Not valid email id\")"
   ]
  },
  {
   "cell_type": "code",
   "execution_count": 53,
   "id": "107429be-d95c-46f6-80bc-0fcbd1a3c210",
   "metadata": {},
   "outputs": [
    {
     "name": "stdin",
     "output_type": "stream",
     "text": [
      " vineetbhoge15@gmail.com\n"
     ]
    },
    {
     "name": "stdout",
     "output_type": "stream",
     "text": [
      "vineetbhoge15\n"
     ]
    }
   ],
   "source": [
    "#31. Extract the username from an email address string.\n",
    "emailstrr = input()\n",
    "mail = emailstrr.split('@')\n",
    "print(mail[0])            "
   ]
  },
  {
   "cell_type": "code",
   "execution_count": 54,
   "id": "9ad39d4c-b150-4cd6-8147-195cd546b1e9",
   "metadata": {},
   "outputs": [
    {
     "name": "stdin",
     "output_type": "stream",
     "text": [
      " vineetbhoge15@gmail.com\n"
     ]
    },
    {
     "name": "stdout",
     "output_type": "stream",
     "text": [
      "gmail.com\n"
     ]
    }
   ],
   "source": [
    "#32. Extract the domain name from an email address string.\n",
    "emailstrrr = input()\n",
    "mail = emailstrrr.split('@')\n",
    "print(mail[1]) "
   ]
  },
  {
   "cell_type": "code",
   "execution_count": 55,
   "id": "eeff83b6-6ef6-49b2-833b-8b10d592e81b",
   "metadata": {},
   "outputs": [
    {
     "name": "stdin",
     "output_type": "stream",
     "text": [
      " my name  is   vineet    bhoge\n"
     ]
    },
    {
     "name": "stdout",
     "output_type": "stream",
     "text": [
      "my name is vineet bhoge\n"
     ]
    }
   ],
   "source": [
    "#33. Replace multiple spaces in a string with a single space.\n",
    "rstr = input().split()\n",
    "sstr = ' '.join(rstr)\n",
    "print(sstr)"
   ]
  },
  {
   "cell_type": "code",
   "execution_count": 56,
   "id": "27d866c2-8a53-4028-8357-3ef22a042a71",
   "metadata": {},
   "outputs": [
    {
     "name": "stdin",
     "output_type": "stream",
     "text": [
      " https://example.com\n"
     ]
    },
    {
     "name": "stdout",
     "output_type": "stream",
     "text": [
      "Valid URL\n"
     ]
    }
   ],
   "source": [
    "#34. Check if a string is a valid URL.\n",
    "import re\n",
    "url = input()\n",
    "urlpattern = r'^(https?://)?(www\\.)?([a-zA-Z0-9-]+\\.[a-zA-Z]{2,})(/[^\\s]*)?$'\n",
    "if re.match(urlpattern,url):\n",
    "    print(f\"Valid URL\")\n",
    "else:\n",
    "    print(f\"Not valid URL\")"
   ]
  },
  {
   "cell_type": "code",
   "execution_count": 58,
   "id": "450e7370-9b8b-4559-a8c9-a06b42505a5b",
   "metadata": {},
   "outputs": [
    {
     "name": "stdin",
     "output_type": "stream",
     "text": [
      " https://example.com\n"
     ]
    },
    {
     "name": "stdout",
     "output_type": "stream",
     "text": [
      "https\n"
     ]
    }
   ],
   "source": [
    "#35. Extract the protocol (http or https) from a URL string.\n",
    "urlp = input()\n",
    "urlproto = urlp.split(':')\n",
    "print(urlproto[0]) "
   ]
  },
  {
   "cell_type": "code",
   "execution_count": 59,
   "id": "ef62dcac-17b2-440b-a885-0b2ddc15dc3e",
   "metadata": {},
   "outputs": [
    {
     "name": "stdin",
     "output_type": "stream",
     "text": [
      " My name is Vineet Bhoge\n"
     ]
    },
    {
     "name": "stdout",
     "output_type": "stream",
     "text": [
      "{'M': 1, 'y': 1, ' ': 4, 'n': 2, 'a': 1, 'm': 1, 'e': 4, 'i': 2, 's': 1, 'V': 1, 't': 1, 'B': 1, 'h': 1, 'o': 1, 'g': 1}\n"
     ]
    }
   ],
   "source": [
    "#36. Find the frequency of each character in a string.\n",
    "freq = {}\n",
    "stl = input()\n",
    "for char in stl:\n",
    "    if char in freq:\n",
    "        freq[char] +=1\n",
    "    else:\n",
    "        freq[char] =1\n",
    "print(freq)"
   ]
  },
  {
   "cell_type": "code",
   "execution_count": 65,
   "id": "8f38fb92-e17c-46bf-a1e7-ecd2a7c712fd",
   "metadata": {},
   "outputs": [
    {
     "name": "stdin",
     "output_type": "stream",
     "text": [
      " My! name@ is#\n"
     ]
    },
    {
     "name": "stdout",
     "output_type": "stream",
     "text": [
      "My name is\n"
     ]
    }
   ],
   "source": [
    "#37. Remove all punctuation from a string.\n",
    "import string\n",
    "trans = input()\n",
    "tstb = str.maketrans('' , '',string.punctuation)\n",
    "cstrg = trans.translate(tstb)\n",
    "print(cstrg)"
   ]
  },
  {
   "cell_type": "code",
   "execution_count": 67,
   "id": "4e19402a-0f74-4605-801a-34826a494e8c",
   "metadata": {},
   "outputs": [
    {
     "name": "stdin",
     "output_type": "stream",
     "text": [
      " 103219\n"
     ]
    },
    {
     "data": {
      "text/plain": [
       "True"
      ]
     },
     "execution_count": 67,
     "metadata": {},
     "output_type": "execute_result"
    }
   ],
   "source": [
    "#38. Check if a string contains only digits.\n",
    "nu = input()\n",
    "nu.isdigit()"
   ]
  },
  {
   "cell_type": "code",
   "execution_count": 68,
   "id": "d012b46a-a261-451e-8fbc-a9964b35d934",
   "metadata": {},
   "outputs": [
    {
     "name": "stdin",
     "output_type": "stream",
     "text": [
      " Water\n"
     ]
    },
    {
     "data": {
      "text/plain": [
       "True"
      ]
     },
     "execution_count": 68,
     "metadata": {},
     "output_type": "execute_result"
    }
   ],
   "source": [
    "#39. Check if a string contains only alphabets.\n",
    "na = input()\n",
    "na.isalpha()"
   ]
  },
  {
   "cell_type": "code",
   "execution_count": 72,
   "id": "2a243468-4797-4ab4-b620-ec6c2058c6b2",
   "metadata": {},
   "outputs": [
    {
     "name": "stdin",
     "output_type": "stream",
     "text": [
      " My name is Locateli\n"
     ]
    },
    {
     "name": "stdout",
     "output_type": "stream",
     "text": [
      "['M', 'y', ' ', 'n', 'a', 'm', 'e', ' ', 'i', 's', ' ', 'L', 'o', 'c', 'a', 't', 'e', 'l', 'i']\n"
     ]
    }
   ],
   "source": [
    "#40. Convert a string to a list of characters.\n",
    "alphal = []\n",
    "ap = input()\n",
    "for char in ap:\n",
    "    alphal.append(char)\n",
    "print(alphal)"
   ]
  },
  {
   "cell_type": "code",
   "execution_count": 73,
   "id": "e9efd2f9-2149-4733-a569-1b49edeb7d2c",
   "metadata": {},
   "outputs": [
    {
     "name": "stdin",
     "output_type": "stream",
     "text": [
      " listen\n",
      " silent\n"
     ]
    },
    {
     "name": "stdout",
     "output_type": "stream",
     "text": [
      "Are anagrams\n"
     ]
    }
   ],
   "source": [
    "#41. Check if two strings are anagrams.\n",
    "ip1 = input()\n",
    "ip2 = input()\n",
    "lip1 = ip1.replace(' ','').lower()\n",
    "lip2 = ip2.replace(' ','').lower()\n",
    "if sorted(lip1) == sorted(lip2):\n",
    "    print(f'Are anagrams')\n",
    "else:\n",
    "    print(f'Not anagrams')"
   ]
  },
  {
   "cell_type": "code",
   "execution_count": 83,
   "id": "69a26a2f-23dc-4c2e-a7a0-88a6a38a966c",
   "metadata": {},
   "outputs": [
    {
     "name": "stdin",
     "output_type": "stream",
     "text": [
      " abc\n",
      " 1\n"
     ]
    },
    {
     "name": "stdout",
     "output_type": "stream",
     "text": [
      "bcd\n"
     ]
    }
   ],
   "source": [
    "#42. Encode a string using a Caesar cipher.\n",
    "cc = input()\n",
    "sv = int(input())\n",
    "ccs = ''\n",
    "for char in cc:\n",
    "    if char.isalpha():\n",
    "        sc = chr((ord(char) - ord('a') + sv)% 26 + ord('a'))\n",
    "        ccs = ccs+sc\n",
    "print(ccs)"
   ]
  },
  {
   "cell_type": "code",
   "execution_count": 86,
   "id": "9b59e678-7002-4f3a-a6a8-be45528f8253",
   "metadata": {},
   "outputs": [
    {
     "name": "stdin",
     "output_type": "stream",
     "text": [
      " abc\n",
      " 1\n"
     ]
    },
    {
     "name": "stdout",
     "output_type": "stream",
     "text": [
      "zab\n"
     ]
    }
   ],
   "source": [
    "#43. Decode a Caesar cipher encoded string.\n",
    "ds = input()\n",
    "svv = int(input())\n",
    "dss =''\n",
    "for char in ds:\n",
    "    if char.isalpha():\n",
    "        cs = chr((ord(char) - ord('a') - svv)% 26 + ord('a'))\n",
    "        dss = dss+cs\n",
    "print(dss)"
   ]
  },
  {
   "cell_type": "code",
   "execution_count": 87,
   "id": "cd221eae-99b9-4329-b598-a96cbdeca16e",
   "metadata": {},
   "outputs": [
    {
     "name": "stdin",
     "output_type": "stream",
     "text": [
      " my name is my name none of your name\n"
     ]
    },
    {
     "name": "stdout",
     "output_type": "stream",
     "text": [
      "name\n",
      "3\n"
     ]
    }
   ],
   "source": [
    "#44. Find the most frequent word in a string.\n",
    "fw = input().split()\n",
    "ft = {}\n",
    "for word in fw:\n",
    "    if word in ft:\n",
    "        ft[word] +=1\n",
    "    else:\n",
    "        ft[word] = 1\n",
    "mfw = max(ft,key=ft.get)\n",
    "print(mfw)   \n",
    "print(ft[mfw])"
   ]
  },
  {
   "cell_type": "code",
   "execution_count": 88,
   "id": "e4ad2350-5d5e-4f96-b1fb-fd8ea31c9784",
   "metadata": {},
   "outputs": [
    {
     "name": "stdin",
     "output_type": "stream",
     "text": [
      " My name is Vineet is name My\n"
     ]
    },
    {
     "name": "stdout",
     "output_type": "stream",
     "text": [
      "['My', 'name', 'is', 'Vineet']\n"
     ]
    }
   ],
   "source": [
    "#45. Find all unique words in a string.\n",
    "uw = input().split()\n",
    "usl =[]\n",
    "for word in uw:\n",
    "    if word not in usl:\n",
    "        usl.append(word)\n",
    "print(usl)"
   ]
  },
  {
   "cell_type": "code",
   "execution_count": 89,
   "id": "f33791e2-d41f-452d-9b3a-3bdb4f200078",
   "metadata": {},
   "outputs": [
    {
     "name": "stdin",
     "output_type": "stream",
     "text": [
      " My name is Vineet Bhoge\n"
     ]
    },
    {
     "name": "stdout",
     "output_type": "stream",
     "text": [
      "8\n"
     ]
    }
   ],
   "source": [
    "#46. Count the number of syllables in a string.\n",
    "import re\n",
    "sy = input().split()\n",
    "ts = 0\n",
    "sp = re.compile(r'[aeiouy]+')\n",
    "for word in sy:\n",
    "    word = word.lower()\n",
    "    syll = sp.findall(word)\n",
    "    ts += len(syll)\n",
    "print(ts)"
   ]
  },
  {
   "cell_type": "code",
   "execution_count": 90,
   "id": "82f9f535-ab5b-4a26-8edb-f1c0ddf46972",
   "metadata": {},
   "outputs": [
    {
     "name": "stdin",
     "output_type": "stream",
     "text": [
      " My name is !\n"
     ]
    },
    {
     "name": "stdout",
     "output_type": "stream",
     "text": [
      "present\n"
     ]
    }
   ],
   "source": [
    "#47. Check if a string contains any special characters.\n",
    "import string\n",
    "sc = input()\n",
    "if any(char in string.punctuation for char in sc):\n",
    "    print('present')\n",
    "else:\n",
    "    print('not present')"
   ]
  },
  {
   "cell_type": "code",
   "execution_count": 93,
   "id": "652d3405-0e84-47a8-a050-656cafbe0ae0",
   "metadata": {},
   "outputs": [
    {
     "name": "stdin",
     "output_type": "stream",
     "text": [
      " My name is Teeniv Vineet Bhoge\n"
     ]
    },
    {
     "name": "stdout",
     "output_type": "stream",
     "text": [
      "['My', 'name', 'is', 'Teeniv', 'Vineet', 'Bhoge']\n"
     ]
    },
    {
     "name": "stdin",
     "output_type": "stream",
     "text": [
      " 3\n"
     ]
    },
    {
     "name": "stdout",
     "output_type": "stream",
     "text": [
      "My name is Vineet Bhoge\n"
     ]
    }
   ],
   "source": [
    "#48. Remove the nth word from a string.\n",
    "pp = input().split()\n",
    "print(pp)\n",
    "ind = int(input())\n",
    "pp.pop(ind)\n",
    "pp\n",
    "pps = ' '.join(pp)\n",
    "print(pps)"
   ]
  },
  {
   "cell_type": "code",
   "execution_count": 95,
   "id": "bc6ae515-ffcd-4a36-86bb-a68c09a5cbdd",
   "metadata": {},
   "outputs": [
    {
     "name": "stdin",
     "output_type": "stream",
     "text": [
      " My name is Vineet Bhoge\n"
     ]
    },
    {
     "name": "stdout",
     "output_type": "stream",
     "text": [
      "['My', 'name', 'is', 'Vineet', 'Bhoge']\n"
     ]
    },
    {
     "name": "stdin",
     "output_type": "stream",
     "text": [
      " 3\n",
      " Teeniv\n"
     ]
    },
    {
     "name": "stdout",
     "output_type": "stream",
     "text": [
      "My name is Teeniv Vineet Bhoge\n"
     ]
    }
   ],
   "source": [
    "#49. Insert a word at the nth position in a string.\n",
    "ppi = input().split()\n",
    "print(ppi)\n",
    "indi = int(input())\n",
    "indw = input()\n",
    "ppi.insert(indi,indw)\n",
    "ppi\n",
    "ppsi = ' '.join(ppi)\n",
    "print(ppsi)"
   ]
  },
  {
   "cell_type": "code",
   "execution_count": 96,
   "id": "ab20fef1-0541-4946-90d4-c09c093fa240",
   "metadata": {},
   "outputs": [
    {
     "name": "stdout",
     "output_type": "stream",
     "text": [
      "[[' Product', 'Price', 'Quantity'], ['Apple', '0.50', '100'], ['Banana', '0.30', '150'], ['Orange', '0.80', '200'], ['Grapes', '2.00', '50 ']]\n"
     ]
    }
   ],
   "source": [
    "#50. Convert a CSV string to a list of lists.\n",
    "import csv\n",
    "from io import StringIO\n",
    "csvstr = ''' Product,Price,Quantity\n",
    "Apple,0.50,100\n",
    "Banana,0.30,150\n",
    "Orange,0.80,200\n",
    "Grapes,2.00,50 '''\n",
    "cst = StringIO(csvstr)\n",
    "csr = csv.reader(cst)\n",
    "cl = list(csr)\n",
    "print(cl)\n"
   ]
  },
  {
   "cell_type": "code",
   "execution_count": 97,
   "id": "e1d76ada-91d1-4f74-ac49-5fb79e92b096",
   "metadata": {},
   "outputs": [],
   "source": [
    "#List Based Practice Problem "
   ]
  },
  {
   "cell_type": "code",
   "execution_count": 5,
   "id": "3e003466-5288-48a0-90d3-3c95bc6361dc",
   "metadata": {},
   "outputs": [
    {
     "name": "stdout",
     "output_type": "stream",
     "text": [
      "[1, 2, 3, 4, 5, 6, 7, 8, 9, 10]\n"
     ]
    }
   ],
   "source": [
    "#1. Create a list with integers from 1 to 10.\n",
    "l=[]\n",
    "for i in range(1,11):\n",
    "    l.append(i)\n",
    "print(l)"
   ]
  },
  {
   "cell_type": "code",
   "execution_count": 6,
   "id": "dec12cf6-36a7-4942-b856-b303cdd3fa4a",
   "metadata": {},
   "outputs": [
    {
     "name": "stdin",
     "output_type": "stream",
     "text": [
      " My name is Vineet Bhoge\n"
     ]
    },
    {
     "name": "stdout",
     "output_type": "stream",
     "text": [
      "5\n"
     ]
    }
   ],
   "source": [
    "#2. Find the length of a list without using the `len()` function.\n",
    "l1=input().split()\n",
    "count = 0\n",
    "for word in l1:\n",
    "    count = count+1\n",
    "print(count)"
   ]
  },
  {
   "cell_type": "code",
   "execution_count": 7,
   "id": "4549f1a9-aa1f-4d8a-aeef-ffea7f5c357f",
   "metadata": {},
   "outputs": [
    {
     "name": "stdin",
     "output_type": "stream",
     "text": [
      " My name is Vineet\n",
      " Bhoge\n"
     ]
    },
    {
     "name": "stdout",
     "output_type": "stream",
     "text": [
      "['My', 'name', 'is', 'Vineet', 'Bhoge']\n"
     ]
    }
   ],
   "source": [
    "#3. Append an element to the end of a list.\n",
    "l2 = input().split()\n",
    "ele = input()\n",
    "l2.append(ele)\n",
    "print(l2)"
   ]
  },
  {
   "cell_type": "code",
   "execution_count": 8,
   "id": "80b5d96b-9a41-43ab-a8ef-0b3d8ae36eaa",
   "metadata": {},
   "outputs": [
    {
     "name": "stdin",
     "output_type": "stream",
     "text": [
      " My name is Vineet Bhoge\n",
      " 3\n",
      " Teeniv\n"
     ]
    },
    {
     "name": "stdout",
     "output_type": "stream",
     "text": [
      "['My', 'name', 'is', 'Teeniv', 'Vineet', 'Bhoge']\n"
     ]
    }
   ],
   "source": [
    "#4. Insert an element at a specific index in a list.\n",
    "l3 = input().split()\n",
    "ind = int(input())\n",
    "el = input()\n",
    "l3.insert(ind,el)\n",
    "print(l3)"
   ]
  },
  {
   "cell_type": "code",
   "execution_count": 14,
   "id": "597b1022-c561-4347-b74d-929b9e410135",
   "metadata": {},
   "outputs": [
    {
     "name": "stdin",
     "output_type": "stream",
     "text": [
      " My name is Teeniv \n",
      " is\n"
     ]
    },
    {
     "name": "stdout",
     "output_type": "stream",
     "text": [
      "['My', 'name', 'Teeniv']\n"
     ]
    }
   ],
   "source": [
    "#5. Remove an element from a list by its value.\n",
    "l5 = input().split()\n",
    "val = input()\n",
    "z = l5.index(val)\n",
    "l5.pop(z)\n",
    "print(l5)"
   ]
  },
  {
   "cell_type": "code",
   "execution_count": 11,
   "id": "c1e0e801-89d7-43bc-86f0-ebedbb18274b",
   "metadata": {},
   "outputs": [
    {
     "name": "stdin",
     "output_type": "stream",
     "text": [
      " My name is Teeniv Vineet\n",
      " 3\n"
     ]
    },
    {
     "name": "stdout",
     "output_type": "stream",
     "text": [
      "['My', 'name', 'is', 'Vineet']\n"
     ]
    }
   ],
   "source": [
    "#6. Remove an element from a list by its index.\n",
    "l4 = input().split()\n",
    "indi = int(input())\n",
    "l4.pop(indi)\n",
    "print(l4)"
   ]
  },
  {
   "cell_type": "code",
   "execution_count": 15,
   "id": "e65b6579-b001-458a-9763-5aee115ca32a",
   "metadata": {},
   "outputs": [
    {
     "name": "stdin",
     "output_type": "stream",
     "text": [
      " My name is Teeniv Egohb\n",
      " Teeniv\n"
     ]
    },
    {
     "name": "stdout",
     "output_type": "stream",
     "text": [
      "Exists\n"
     ]
    }
   ],
   "source": [
    "#7. Check if an element exists in a list.\n",
    "l6 = input().split()\n",
    "elem = input()\n",
    "if l6.index(elem):\n",
    "    print('Exists')\n",
    "else:\n",
    "    print('Not Exists')"
   ]
  },
  {
   "cell_type": "code",
   "execution_count": 17,
   "id": "b85cd5e7-78cb-41b8-bae9-5612d739b5af",
   "metadata": {},
   "outputs": [
    {
     "name": "stdin",
     "output_type": "stream",
     "text": [
      " My name is Teeniv Egohb\n",
      " Egohb\n"
     ]
    },
    {
     "data": {
      "text/plain": [
       "4"
      ]
     },
     "execution_count": 17,
     "metadata": {},
     "output_type": "execute_result"
    }
   ],
   "source": [
    "#8. Find the index of the first occurrence of an element in a list.\n",
    "l7 = input().split()\n",
    "eleme = input()\n",
    "l7.index(eleme)"
   ]
  },
  {
   "cell_type": "code",
   "execution_count": 19,
   "id": "83feb02f-e8be-4e1c-8265-1671637035af",
   "metadata": {},
   "outputs": [
    {
     "name": "stdin",
     "output_type": "stream",
     "text": [
      " my name is name of my name our name\n",
      " name\n"
     ]
    },
    {
     "data": {
      "text/plain": [
       "4"
      ]
     },
     "execution_count": 19,
     "metadata": {},
     "output_type": "execute_result"
    }
   ],
   "source": [
    "#9. Count the occurrences of an element in a list.\n",
    "l8 = input().split()\n",
    "elemen = input()\n",
    "l8.count(elemen)"
   ]
  },
  {
   "cell_type": "code",
   "execution_count": 20,
   "id": "fc52085c-c9ce-4dd6-a041-429793150e97",
   "metadata": {},
   "outputs": [
    {
     "name": "stdin",
     "output_type": "stream",
     "text": [
      " My name is Vineet Bhoge\n"
     ]
    },
    {
     "name": "stdout",
     "output_type": "stream",
     "text": [
      "['Bhoge', 'Vineet', 'is', 'name', 'My']\n"
     ]
    }
   ],
   "source": [
    "#10. Reverse the order of elements in a list.\n",
    "l9 = input().split()\n",
    "l9r = l9[::-1]\n",
    "print(l9r)"
   ]
  },
  {
   "cell_type": "code",
   "execution_count": 27,
   "id": "064b0a16-bf2b-4a0c-9cba-c3a70e97ad89",
   "metadata": {},
   "outputs": [
    {
     "name": "stdin",
     "output_type": "stream",
     "text": [
      " 1 3 5 7 9 2 10 8 6\n"
     ]
    },
    {
     "name": "stdout",
     "output_type": "stream",
     "text": [
      "[1, 2, 3, 5, 6, 7, 8, 9, 10]\n"
     ]
    }
   ],
   "source": [
    "#11. Sort a list in ascending order.\n",
    "l10 = input().split()\n",
    "l10 = [int(num) for num in l10]\n",
    "lenl10 = len(l10)\n",
    "for i in range(lenl10):\n",
    "    for j in range(0,lenl10-i-1):\n",
    "        if l10[j]>l10[j+1]:\n",
    "            l10[j],l10[j+1] = l10[j+1],l10[j]\n",
    "print(l10)"
   ]
  },
  {
   "cell_type": "code",
   "execution_count": 29,
   "id": "9e073520-ba99-4372-8862-51b507eba68a",
   "metadata": {},
   "outputs": [
    {
     "name": "stdin",
     "output_type": "stream",
     "text": [
      " 1 3 5 7 9 10 2 6 \n"
     ]
    },
    {
     "name": "stdout",
     "output_type": "stream",
     "text": [
      "[10, 9, 7, 6, 5, 3, 2, 1]\n"
     ]
    }
   ],
   "source": [
    "#12. Sort a list in descending order.\n",
    "l11 = input().split()\n",
    "l11 = [int(num) for num in l11]\n",
    "lenl11 = len(l11)\n",
    "for i in range(lenl10):\n",
    "    for j in range(0,lenl11-i-1):\n",
    "        if l11[j]<l11[j+1]:\n",
    "            l11[j+1],l11[j] = l11[j],l11[j+1]\n",
    "print(l11)           "
   ]
  },
  {
   "cell_type": "code",
   "execution_count": 31,
   "id": "79d88843-2c96-49c3-9839-3a6d1bcc1272",
   "metadata": {},
   "outputs": [
    {
     "name": "stdout",
     "output_type": "stream",
     "text": [
      "[2, 4, 6, 8, 10, 12, 14, 16, 18]\n"
     ]
    }
   ],
   "source": [
    "#13. Create a list of even numbers from 1 to 20.\n",
    "l12=[]\n",
    "for i in range(1,20):\n",
    "    if i%2 == 0:\n",
    "        l12.append(i)\n",
    "print(l12)"
   ]
  },
  {
   "cell_type": "code",
   "execution_count": 32,
   "id": "922e99d4-880c-42b1-844c-e55cd3c0a39a",
   "metadata": {},
   "outputs": [
    {
     "name": "stdout",
     "output_type": "stream",
     "text": [
      "[1, 3, 5, 7, 9, 11, 13, 15, 17, 19]\n"
     ]
    }
   ],
   "source": [
    "#14. Create a list of odd numbers from 1 to 20.\n",
    "l13=[]\n",
    "for i in range(1,20):\n",
    "    if i%2 != 0:\n",
    "        l13.append(i)\n",
    "print(l13)"
   ]
  },
  {
   "cell_type": "code",
   "execution_count": 34,
   "id": "b178e929-4d62-42d7-92c6-872a68ab84e4",
   "metadata": {},
   "outputs": [
    {
     "name": "stdin",
     "output_type": "stream",
     "text": [
      " 1 3 5 7 2\n"
     ]
    },
    {
     "name": "stdout",
     "output_type": "stream",
     "text": [
      "18\n"
     ]
    }
   ],
   "source": [
    "#15. Find the sum of all elements in a list.\n",
    "l14 = input().split()\n",
    "l14 = [int(num) for num in l14]\n",
    "lenl14 = len(l14)\n",
    "sum = 0\n",
    "for i in range(0,lenl14):\n",
    "    sum += l14[i]\n",
    "print(sum)\n",
    "    "
   ]
  },
  {
   "cell_type": "code",
   "execution_count": 45,
   "id": "5241d500-7eb1-413f-bfdc-5a54647dca3e",
   "metadata": {},
   "outputs": [
    {
     "name": "stdin",
     "output_type": "stream",
     "text": [
      " 1 6 3 9 8\n"
     ]
    },
    {
     "name": "stdout",
     "output_type": "stream",
     "text": [
      "9\n"
     ]
    }
   ],
   "source": [
    "#16. Find the maximum value in a list.\n",
    "l15 = input().split()\n",
    "l15 = [int(num) for num in l15]\n",
    "lenl15 = len(l15)\n",
    "num = 0\n",
    "for i in range(0,lenl15):\n",
    "    if num < l15[i]:\n",
    "        num = l15[i]\n",
    "print(num) "
   ]
  },
  {
   "cell_type": "code",
   "execution_count": 47,
   "id": "57ef60c8-224a-4ce4-a8bb-bb9685649b3b",
   "metadata": {},
   "outputs": [
    {
     "name": "stdin",
     "output_type": "stream",
     "text": [
      " 5 9 2 3 7 8 1\n"
     ]
    },
    {
     "name": "stdout",
     "output_type": "stream",
     "text": [
      "1\n"
     ]
    }
   ],
   "source": [
    "#17. Find the minimum value in a list.\n",
    "l16 = input().split()\n",
    "l16 = [int(numm) for numm in l16]\n",
    "lenl16 = len(l16)\n",
    "numm = l16[0]\n",
    "for i in range(0,lenl16):\n",
    "    if numm > l16[i]:\n",
    "        numm = l16[i]\n",
    "print(numm) "
   ]
  },
  {
   "cell_type": "code",
   "execution_count": 49,
   "id": "f1084c66-e049-4084-8f03-6b3141cd716f",
   "metadata": {},
   "outputs": [
    {
     "name": "stdout",
     "output_type": "stream",
     "text": [
      "[1, 4, 9, 16, 25, 36, 49, 64, 81, 100]\n"
     ]
    }
   ],
   "source": [
    "#18. Create a list of squares of numbers from 1 to 10.\n",
    "l17 = []\n",
    "nu = 0 \n",
    "for i in range(1,11):\n",
    "    nu = i*i\n",
    "    l17.append(nu)\n",
    "print(l17)\n",
    "    "
   ]
  },
  {
   "cell_type": "code",
   "execution_count": 56,
   "id": "5e4dbbb8-d3c2-42e3-b176-205a08450745",
   "metadata": {},
   "outputs": [
    {
     "name": "stdin",
     "output_type": "stream",
     "text": [
      " 10\n"
     ]
    },
    {
     "name": "stdout",
     "output_type": "stream",
     "text": [
      "[45, 78, 40, 14, 61, 51, 68, 77, 58, 53]\n"
     ]
    }
   ],
   "source": [
    "#19. Create a list of random numbers.\n",
    "import random\n",
    "hmn = int(input())\n",
    "rn = [random.randint(1,100)  for _ in range (hmn)]\n",
    "print(rn)"
   ]
  },
  {
   "cell_type": "code",
   "execution_count": 59,
   "id": "39412923-6552-43e8-907c-38c72faef75f",
   "metadata": {},
   "outputs": [
    {
     "name": "stdin",
     "output_type": "stream",
     "text": [
      " 1 6 2 5 4 3 2 6 5 4 1 2 3\n"
     ]
    },
    {
     "name": "stdout",
     "output_type": "stream",
     "text": [
      "[1, 2, 3, 4, 5, 6]\n"
     ]
    }
   ],
   "source": [
    "#20. Remove duplicates from a list.\n",
    "l18 = input().split()\n",
    "l18 = [int(numm) for numm in l18]\n",
    "s = set(l18)\n",
    "s1 = list(s)\n",
    "print(s1)"
   ]
  },
  {
   "cell_type": "code",
   "execution_count": 65,
   "id": "6bc139f0-ebce-4707-9242-f5bd8c686ad5",
   "metadata": {},
   "outputs": [
    {
     "name": "stdin",
     "output_type": "stream",
     "text": [
      " 1 2 3 4 5\n",
      " 5 6 7 8 1\n"
     ]
    },
    {
     "name": "stdout",
     "output_type": "stream",
     "text": [
      "[1, 5]\n"
     ]
    }
   ],
   "source": [
    "#21. Find the common elements between two lists.\n",
    "l19 = input().split()\n",
    "l19 = [int(numm) for numm in l19]\n",
    "l20 = input().split()\n",
    "l20 = [int(numm) for numm in l20]\n",
    "lenl19 = len(l19)\n",
    "lenl20 = len(l20)\n",
    "l21 =[]\n",
    "nur = 0\n",
    "for i in range(0,lenl19):\n",
    "    for j in range(0,lenl20):\n",
    "        if l19[i] == l20[j]:\n",
    "            nur = l19[i]\n",
    "            l21.append(nur)\n",
    "print(l21)"
   ]
  },
  {
   "cell_type": "code",
   "execution_count": 70,
   "id": "99239a73-dd2a-4e46-b944-deb45e376dbe",
   "metadata": {},
   "outputs": [
    {
     "name": "stdin",
     "output_type": "stream",
     "text": [
      " 1 2 3 4 5\n",
      " 5 6 7 8 9\n"
     ]
    },
    {
     "name": "stdout",
     "output_type": "stream",
     "text": [
      "[1, 2, 3, 4, 6, 7, 8, 9]\n"
     ]
    }
   ],
   "source": [
    "#22. Find the difference between two lists.\n",
    "l22 = input().split()\n",
    "l22 = [int(numm) for numm in l22]\n",
    "l23 = input().split()\n",
    "l23 = [int(numm) for numm in l23]\n",
    "l24 =[]\n",
    "for num in l22:\n",
    "    if num not in l23:\n",
    "        l24.append(num)\n",
    "for num in l23:\n",
    "    if num not in l22:\n",
    "        l24.append(num)\n",
    "print(l24)"
   ]
  },
  {
   "cell_type": "code",
   "execution_count": 71,
   "id": "69f3e656-d755-4fb8-9311-6b285f782446",
   "metadata": {},
   "outputs": [
    {
     "name": "stdin",
     "output_type": "stream",
     "text": [
      " 1 2 3 4 5\n",
      " 6 7 8 9\n"
     ]
    },
    {
     "name": "stdout",
     "output_type": "stream",
     "text": [
      "[1, 2, 3, 4, 5, 6, 7, 8, 9]\n"
     ]
    }
   ],
   "source": [
    "#23. Merge two lists.\n",
    "l25 = input().split()\n",
    "l25 = [int(numm) for numm in l25]\n",
    "l26 = input().split()\n",
    "l26 = [int(numm) for numm in l26]\n",
    "l27 = l25 + l26\n",
    "print(l27)"
   ]
  },
  {
   "cell_type": "code",
   "execution_count": 73,
   "id": "bb843c0d-9005-41a2-99a6-6416df7c6346",
   "metadata": {},
   "outputs": [
    {
     "name": "stdin",
     "output_type": "stream",
     "text": [
      " 1 2 3 4 5 6\n"
     ]
    },
    {
     "name": "stdout",
     "output_type": "stream",
     "text": [
      "[2, 4, 6, 8, 10, 12]\n"
     ]
    }
   ],
   "source": [
    "#24. Multiply all elements in a list by 2. \n",
    "l28 = input().split()\n",
    "l28 = [int(num) for num in l28]\n",
    "l29 = []\n",
    "for num in l28:\n",
    "    num = num *2\n",
    "    l29.append(num)\n",
    "print(l29)"
   ]
  },
  {
   "cell_type": "code",
   "execution_count": 75,
   "id": "7cc31729-52a4-4237-982f-f865b7a77fb8",
   "metadata": {},
   "outputs": [
    {
     "name": "stdin",
     "output_type": "stream",
     "text": [
      " 1 2 3 4 5 6 7 8 9\n"
     ]
    },
    {
     "name": "stdout",
     "output_type": "stream",
     "text": [
      "[2, 4, 6, 8]\n"
     ]
    }
   ],
   "source": [
    "#25. Filter out all even numbers from a list.\n",
    "l30 = input().split()\n",
    "l30 = [int(num) for num in l30]\n",
    "lenl30 = len(l30)\n",
    "l31=[]\n",
    "nue = 0\n",
    "for i in range(0,lenl30):\n",
    "    if l30[i]%2==0:\n",
    "        nue = l30[i]\n",
    "        l31.append(nue)\n",
    "print(l31)"
   ]
  },
  {
   "cell_type": "code",
   "execution_count": 77,
   "id": "d2b3bf0f-c3df-43fb-8185-b7d8738a3201",
   "metadata": {},
   "outputs": [
    {
     "name": "stdin",
     "output_type": "stream",
     "text": [
      " 1 2 3 4 5 6 7 8 9\n"
     ]
    },
    {
     "name": "stdout",
     "output_type": "stream",
     "text": [
      "['1', '2', '3', '4', '5', '6', '7', '8', '9']\n",
      "[1, 2, 3, 4, 5, 6, 7, 8, 9]\n"
     ]
    }
   ],
   "source": [
    "#26. Convert a list of strings to a list of integers.\n",
    "l32 = input().split()\n",
    "print(l32)\n",
    "l32 = [int(num) for num in l32]\n",
    "print(l32)"
   ]
  },
  {
   "cell_type": "code",
   "execution_count": 81,
   "id": "022c3e16-4bdd-4bbf-ba33-df08fff1d6dd",
   "metadata": {},
   "outputs": [
    {
     "name": "stdin",
     "output_type": "stream",
     "text": [
      " 1 2 3 4 5 6 7 8 9\n"
     ]
    },
    {
     "name": "stdout",
     "output_type": "stream",
     "text": [
      "['1', '2', '3', '4', '5', '6', '7', '8', '9']\n"
     ]
    }
   ],
   "source": [
    "#27. Convert a list of integers to a list of strings.\n",
    "l33 = input().split()\n",
    "l33 = [str(num) for num in l33]\n",
    "print(l33)"
   ]
  },
  {
   "cell_type": "code",
   "execution_count": 83,
   "id": "290c74ae-8ba4-4847-9af3-25979b38fd95",
   "metadata": {},
   "outputs": [
    {
     "name": "stdout",
     "output_type": "stream",
     "text": [
      "[1, 2, 3, 4, 5, 6, 7, 8, 9]\n"
     ]
    }
   ],
   "source": [
    "#28. Flatten a nested list.\n",
    "l34 = [[1,2,3],[4,5,6],[7,8,9]]\n",
    "l35 = [item for sublist in l34 for item in sublist]\n",
    "print(l35)"
   ]
  },
  {
   "cell_type": "code",
   "execution_count": 90,
   "id": "f25eebef-c037-4dd5-b079-3e7c3c92dc6d",
   "metadata": {},
   "outputs": [
    {
     "name": "stdout",
     "output_type": "stream",
     "text": [
      "[0, 1, 1, 2, 3, 5, 8, 13, 21, 34]\n"
     ]
    }
   ],
   "source": [
    "#29. Create a list of the first 10 Fibonacci numbers.\n",
    "fibo = [0,1]\n",
    "for i in range (2,10):\n",
    "    nuf = fibo[i-1] + fibo[i-2]\n",
    "    fibo.append(nuf)\n",
    "print(fibo)"
   ]
  },
  {
   "cell_type": "code",
   "execution_count": 96,
   "id": "39657d90-6b07-41cd-82a9-1ecaf1b62571",
   "metadata": {},
   "outputs": [
    {
     "name": "stdin",
     "output_type": "stream",
     "text": [
      " 1 2 3 4 5 6\n"
     ]
    },
    {
     "name": "stdout",
     "output_type": "stream",
     "text": [
      "[1, 2, 3, 4, 5, 6]\n",
      "Sorted\n"
     ]
    }
   ],
   "source": [
    "#30. Check if a list is sorted.\n",
    "l36 = input().split()\n",
    "l36 = [int(num) for num in l36]\n",
    "l37 = sorted(l36)\n",
    "print(l37)\n",
    "if l36 == l37:\n",
    "    print('Sorted')\n",
    "else:\n",
    "    print('Not Sorted')"
   ]
  },
  {
   "cell_type": "code",
   "execution_count": 104,
   "id": "a23c8bca-b525-4f36-b5bc-3c65c34c45f6",
   "metadata": {},
   "outputs": [
    {
     "name": "stdin",
     "output_type": "stream",
     "text": [
      " 1 2 3 4 5 6 7 8 9\n",
      " 5\n"
     ]
    },
    {
     "name": "stdout",
     "output_type": "stream",
     "text": [
      "[6, 7, 8, 9, 1, 2, 3, 4, 5]\n"
     ]
    }
   ],
   "source": [
    "#31. Rotate a list to the left by `n` positions.\n",
    "l38 = input().split()\n",
    "l38 = [int(num) for num in l38]\n",
    "lenl38 = len(l38)\n",
    "ind = int(input()) %lenl38\n",
    "l39 = l38[ind:] + l38[:ind]\n",
    "print(l39)"
   ]
  },
  {
   "cell_type": "code",
   "execution_count": 114,
   "id": "6bb8babd-b859-4646-bb58-e1ee09694ef2",
   "metadata": {},
   "outputs": [
    {
     "name": "stdin",
     "output_type": "stream",
     "text": [
      " 1 2 3 4 5 6 7 8 9\n",
      " 5\n"
     ]
    },
    {
     "name": "stdout",
     "output_type": "stream",
     "text": [
      "[5, 6, 7, 8, 9, 1, 2, 3, 4]\n"
     ]
    }
   ],
   "source": [
    "#32. Rotate a list to the right by `n` positions.\n",
    "l40 = input().split()\n",
    "l40 = [int(num) for num in l40]\n",
    "lenl40 = len(l40)\n",
    "inde = int(input()) %lenl40\n",
    "l41 = l40[-inde:] + l40[:-inde]\n",
    "print(l41)"
   ]
  },
  {
   "cell_type": "code",
   "execution_count": 42,
   "id": "a3a943ae-5ce1-4afd-be77-82476628cc4a",
   "metadata": {},
   "outputs": [
    {
     "name": "stdout",
     "output_type": "stream",
     "text": [
      "[2, 3, 5, 7, 11, 13, 17, 19, 23, 29, 31, 37, 41, 43, 47]\n"
     ]
    }
   ],
   "source": [
    "#33. Create a list of prime numbers up to 50.\n",
    "p = []\n",
    "for np in range(2,51):\n",
    "    isprime = True\n",
    "    for i in range(2,int(np**0.5)+1):\n",
    "        if np%(i) == 0:\n",
    "            isprime = False\n",
    "            break\n",
    "    if isprime:\n",
    "            p.append(np)\n",
    "\n",
    "print(p)"
   ]
  },
  {
   "cell_type": "code",
   "execution_count": 14,
   "id": "c5925a27-ab05-4125-8e90-a79af537e460",
   "metadata": {},
   "outputs": [
    {
     "name": "stdin",
     "output_type": "stream",
     "text": [
      " 3\n",
      " 1 2 3 4 5 6\n"
     ]
    },
    {
     "name": "stdout",
     "output_type": "stream",
     "text": [
      "[[1, 2, 3], [4, 5, 6]]\n"
     ]
    }
   ],
   "source": [
    "#34. Split a list into chunks of size `n`.\n",
    "chunk = []\n",
    "numc = int(input())\n",
    "strchk = input().split()\n",
    "strchk = [int(num) for num in strchk]\n",
    "lend = len(strchk)\n",
    "for i in range (0,lend,numc):\n",
    "    chuk = strchk[i:i+numc]\n",
    "    chunk.append(chuk)\n",
    "print(chunk)"
   ]
  },
  {
   "cell_type": "code",
   "execution_count": 121,
   "id": "8e2ab627-cf6d-45a5-9579-2098e4869ea9",
   "metadata": {},
   "outputs": [
    {
     "name": "stdin",
     "output_type": "stream",
     "text": [
      " 1 6 3 5 9 8 4 2 7\n"
     ]
    },
    {
     "name": "stdout",
     "output_type": "stream",
     "text": [
      "8\n"
     ]
    }
   ],
   "source": [
    "#35. Find the second largest number in a list.\n",
    "l42 = input().split()\n",
    "l42 = [int(num) for num in l42]\n",
    "lenl42 = len(l42)\n",
    "for i in range(lenl42):\n",
    "    for j in range(0,lenl42-i-1):\n",
    "        if l42[j]>l42[j+1]:\n",
    "            l42[j],l42[j+1] = l42[j+1],l42[j]\n",
    "print(l42[-2])"
   ]
  },
  {
   "cell_type": "code",
   "execution_count": 124,
   "id": "0ac08c1d-0879-4abf-9dd2-28a467748441",
   "metadata": {},
   "outputs": [
    {
     "name": "stdin",
     "output_type": "stream",
     "text": [
      " 1 6 3 5 9 8 2 4 7\n"
     ]
    },
    {
     "name": "stdout",
     "output_type": "stream",
     "text": [
      "[1, 36, 9, 25, 81, 64, 4, 16, 49]\n"
     ]
    }
   ],
   "source": [
    "#36. Replace every element in a list with its square.\n",
    "l43 = input().split()\n",
    "l43 = [int(num) for num in l43]\n",
    "lenl43 = len(l43)\n",
    "for i in range(0,lenl43):\n",
    "    l43[i] *= l43[i]\n",
    "print(l43)"
   ]
  },
  {
   "cell_type": "code",
   "execution_count": 3,
   "id": "915c857e-e761-4858-98df-b57395b0bcbe",
   "metadata": {},
   "outputs": [
    {
     "name": "stdin",
     "output_type": "stream",
     "text": [
      " My name is Vineet is name My is Vineet\n"
     ]
    },
    {
     "name": "stdout",
     "output_type": "stream",
     "text": [
      "{'My': 2, 'name': 2, 'is': 3, 'Vineet': 2}\n"
     ]
    }
   ],
   "source": [
    "#37. Convert a list to a dictionary where list elements become keys and their indices become values. \n",
    "freq1 = {}\n",
    "stl1 = input().split()\n",
    "for word in stl1:\n",
    "    if word in freq1:\n",
    "        freq1[word] +=1\n",
    "    else:\n",
    "        freq1[word] =1\n",
    "print(freq1)"
   ]
  },
  {
   "cell_type": "code",
   "execution_count": 127,
   "id": "046240c3-5579-42b3-8eed-42a6814224c7",
   "metadata": {},
   "outputs": [
    {
     "name": "stdin",
     "output_type": "stream",
     "text": [
      " 1 6 9 5 8 4 3 7\n"
     ]
    },
    {
     "name": "stdout",
     "output_type": "stream",
     "text": [
      "[4, 5, 7, 6, 3, 1, 9, 8]\n"
     ]
    }
   ],
   "source": [
    "#38. Shuffle the elements of a list randomly.\n",
    "import random\n",
    "l44 = input().split()\n",
    "l44 = [int(num) for num in l44]\n",
    "random.shuffle(l44)\n",
    "print(l44)"
   ]
  },
  {
   "cell_type": "code",
   "execution_count": 132,
   "id": "ac584eae-033f-4233-afda-a3cbbb9b29ee",
   "metadata": {},
   "outputs": [
    {
     "name": "stdout",
     "output_type": "stream",
     "text": [
      "[1, 2, 6, 24, 120, 720, 5040, 40320, 362880, 3628800]\n"
     ]
    }
   ],
   "source": [
    "#39. Create a list of the first 10 factorial numbers.\n",
    "import math\n",
    "l45 = []\n",
    "for i in range(1,11):\n",
    "    f = math.factorial(i)\n",
    "    l45.append(f)\n",
    "print(l45)"
   ]
  },
  {
   "cell_type": "code",
   "execution_count": 146,
   "id": "c05442e0-e0cb-4b17-a064-7468b8a92cc7",
   "metadata": {},
   "outputs": [
    {
     "name": "stdin",
     "output_type": "stream",
     "text": [
      " 1 2 3 4 \n",
      "  4 5 6 7\n"
     ]
    },
    {
     "name": "stdout",
     "output_type": "stream",
     "text": [
      "Common element\n"
     ]
    }
   ],
   "source": [
    "#40. Check if two lists have at least one element in common.\n",
    "l46 = input().split()\n",
    "l46 = [int(num) for num in l46]\n",
    "l47 = input().split()\n",
    "l47 = [int(num) for num in l47]\n",
    "cf = False\n",
    "for  num in l46:\n",
    "    if num in l47:\n",
    "        cf = True\n",
    "        break\n",
    "if cf :\n",
    "    print(\"Common element\")\n",
    "else:\n",
    "    print('No common element')\n"
   ]
  },
  {
   "cell_type": "code",
   "execution_count": 148,
   "id": "ee657415-0689-483e-8bfa-60ecc47bd1e6",
   "metadata": {},
   "outputs": [
    {
     "name": "stdin",
     "output_type": "stream",
     "text": [
      " 1 2 3 4 5 6\n"
     ]
    },
    {
     "name": "stdout",
     "output_type": "stream",
     "text": [
      "[1, 2, 3, 4, 5, 6]\n",
      "[]\n"
     ]
    }
   ],
   "source": [
    "#41. Remove all elements from a list.\n",
    "l47 = input().split()\n",
    "l47 = [int(num) for num in l47]\n",
    "print(l47)\n",
    "l47.clear()\n",
    "print(l47)"
   ]
  },
  {
   "cell_type": "code",
   "execution_count": 153,
   "id": "0485513b-ad7b-4109-a376-f41fcc59c9fb",
   "metadata": {},
   "outputs": [
    {
     "name": "stdin",
     "output_type": "stream",
     "text": [
      " 1 -9 6 -8 6 \n"
     ]
    },
    {
     "name": "stdout",
     "output_type": "stream",
     "text": [
      "[1, 0, 6, 0, 6]\n"
     ]
    }
   ],
   "source": [
    "#42. Replace negative numbers in a list with 0.\n",
    "l48 = input().split()\n",
    "l48 = [int(num) for num in l48]\n",
    "lenl48 = len(l48)\n",
    "for i in range(0,lenl48):\n",
    "    if l48[i] <= 0:\n",
    "        l48[i] = 0\n",
    "print(l48)"
   ]
  },
  {
   "cell_type": "code",
   "execution_count": 155,
   "id": "a1c6cc66-bbc5-4a20-9e50-eff9d1eb6234",
   "metadata": {},
   "outputs": [
    {
     "name": "stdin",
     "output_type": "stream",
     "text": [
      "  My name is Vineet Bhoge\n"
     ]
    },
    {
     "name": "stdout",
     "output_type": "stream",
     "text": [
      "['', 'My', 'name', 'is', 'Vineet', 'Bhoge']\n"
     ]
    }
   ],
   "source": [
    "#43. Convert a string into a list of words.\n",
    "l49 = input().split(' ')\n",
    "print(l49)"
   ]
  },
  {
   "cell_type": "code",
   "execution_count": 156,
   "id": "ad6fd14a-b23a-4c25-be60-e500912fdd4d",
   "metadata": {},
   "outputs": [
    {
     "name": "stdout",
     "output_type": "stream",
     "text": [
      "My name is Vineet Bhoge\n"
     ]
    }
   ],
   "source": [
    "#44. Convert a list of words into a string.\n",
    "l50 = ['My', 'name', 'is', 'Vineet', 'Bhoge']\n",
    "ls = ' '.join(l50)\n",
    "print(ls)"
   ]
  },
  {
   "cell_type": "code",
   "execution_count": 158,
   "id": "22cc2419-248b-46e7-9b56-13338311eeaf",
   "metadata": {},
   "outputs": [
    {
     "name": "stdin",
     "output_type": "stream",
     "text": [
      " 9\n"
     ]
    },
    {
     "name": "stdout",
     "output_type": "stream",
     "text": [
      "[2, 4, 8, 16, 32, 64, 128, 256]\n"
     ]
    }
   ],
   "source": [
    "#45. Create a list of the first `n` powers of 2.\n",
    "n = int(input())\n",
    "l51 = []\n",
    "po = 0\n",
    "for i in range(1,n):\n",
    "    po = 2**i\n",
    "    l51.append(po)\n",
    "print(l51)"
   ]
  },
  {
   "cell_type": "code",
   "execution_count": 160,
   "id": "57e27c95-139b-4193-bdbe-1b60b4415e5c",
   "metadata": {},
   "outputs": [
    {
     "name": "stdin",
     "output_type": "stream",
     "text": [
      " My name is Vineet \n"
     ]
    },
    {
     "name": "stdout",
     "output_type": "stream",
     "text": [
      "Vineet\n"
     ]
    }
   ],
   "source": [
    "#46. Find the longest string in a list of strings.\n",
    "l52 = input().split()\n",
    "lenr = ' '\n",
    "for string in l52:\n",
    "    if len(lenr) < len(string):\n",
    "        lenr = string\n",
    "print(lenr)"
   ]
  },
  {
   "cell_type": "code",
   "execution_count": 165,
   "id": "3ad0ccde-1ca9-4214-ab64-bbb03d02c2df",
   "metadata": {},
   "outputs": [
    {
     "name": "stdin",
     "output_type": "stream",
     "text": [
      " My Vineet Bhog\n"
     ]
    },
    {
     "name": "stdout",
     "output_type": "stream",
     "text": [
      "My\n"
     ]
    }
   ],
   "source": [
    "#47. Find the shortest string in a list of strings.\n",
    "l53 = input().split()\n",
    "lens = '             '\n",
    "for string in l52:\n",
    "    if len(lens) > len(string):\n",
    "        lens = string\n",
    "print(lens)"
   ]
  },
  {
   "cell_type": "code",
   "execution_count": 172,
   "id": "251304ab-9b3d-43d9-a259-6c632c944a2a",
   "metadata": {},
   "outputs": [
    {
     "name": "stdin",
     "output_type": "stream",
     "text": [
      " 9\n"
     ]
    },
    {
     "name": "stdout",
     "output_type": "stream",
     "text": [
      "[1.0, 3.0, 6.0, 10.0, 15.0, 21.0, 28.0, 36.0]\n"
     ]
    }
   ],
   "source": [
    "#48. Create a list of the first `n` triangular numbers.\n",
    "l54 = []\n",
    "numt = int(input())\n",
    "for i in range(1,numt):\n",
    "           tn =  (i*(i+1))/2\n",
    "           l54.append(tn)\n",
    "print(l54)"
   ]
  },
  {
   "cell_type": "code",
   "execution_count": 68,
   "id": "cd32f572-3ed4-4d56-88ff-1d56efb16b3d",
   "metadata": {},
   "outputs": [
    {
     "name": "stdout",
     "output_type": "stream",
     "text": [
      "Subsequence\n"
     ]
    }
   ],
   "source": [
    "#49. Check if a list contains another list as a subsequence.\n",
    "sl = [1, 2]\n",
    "ml = [1, 2, 3, 4]\n",
    "lensl = len(sl)\n",
    "\n",
    "if lensl == 0:\n",
    "    print('Subsequence')\n",
    "else:\n",
    "    subindx = 0\n",
    "    for item in ml:\n",
    "        if item == sl[subindx]:\n",
    "            subindx += 1\n",
    "            if subindx == lensl: \n",
    "                print('Subsequence')\n",
    "                break\n",
    "    else:\n",
    "        print('Not a subsequence')\n"
   ]
  },
  {
   "cell_type": "code",
   "execution_count": 174,
   "id": "3e449ff5-ee4b-47ca-b2b3-e59cf2f735ef",
   "metadata": {},
   "outputs": [
    {
     "name": "stdin",
     "output_type": "stream",
     "text": [
      " 1 2 3 4 5 6 7 8 9\n",
      " 3 \n",
      " 7\n"
     ]
    },
    {
     "name": "stdout",
     "output_type": "stream",
     "text": [
      "[1, 2, 3, 8, 5, 6, 7, 4, 9]\n"
     ]
    }
   ],
   "source": [
    "#50. Swap two elements in a list by their indices.\n",
    "l55 = input().split()\n",
    "l55 = [int(num) for num in l55]\n",
    "ind1 = int(input())\n",
    "ind2 = int(input())\n",
    "x,y = 0,0\n",
    "x,y = l55[ind1],l55[ind2] \n",
    "l55[ind1],l55[ind2] = y,x\n",
    "print(l55)"
   ]
  },
  {
   "cell_type": "code",
   "execution_count": 15,
   "id": "76864da2-7bdd-4ed7-a5a5-440aa23e014f",
   "metadata": {},
   "outputs": [],
   "source": [
    "# Tuple Based Practice Problem "
   ]
  },
  {
   "cell_type": "code",
   "execution_count": 18,
   "id": "fb54ceb8-b208-4774-89c6-a11270c7cd4c",
   "metadata": {},
   "outputs": [
    {
     "name": "stdout",
     "output_type": "stream",
     "text": [
      "(1, 2, 3, 4, 5)\n"
     ]
    }
   ],
   "source": [
    "#1. Create a tuple with integers from 1 to 5.\n",
    "l56=[]\n",
    "for i in range(1,6):\n",
    "    l56.append(i)\n",
    "print(tuple(l56))"
   ]
  },
  {
   "cell_type": "code",
   "execution_count": 20,
   "id": "f3ee55a4-d27a-4e8b-9371-8a41ef7f27dd",
   "metadata": {},
   "outputs": [
    {
     "name": "stdout",
     "output_type": "stream",
     "text": [
      "3\n"
     ]
    }
   ],
   "source": [
    "#2. Access the third element of a tuple.\n",
    "t1 = (1, 2, 3, 4, 5)\n",
    "l57 = list(t1)\n",
    "print(l57[2])"
   ]
  },
  {
   "cell_type": "code",
   "execution_count": 22,
   "id": "eff2a367-440a-4663-88fd-272b8b42116d",
   "metadata": {},
   "outputs": [
    {
     "name": "stdout",
     "output_type": "stream",
     "text": [
      "5\n"
     ]
    }
   ],
   "source": [
    "#3. Find the length of a tuple without using the `len()` function.\n",
    "t2 = (1, 2, 3, 4, 5)\n",
    "l58 = list(t2)\n",
    "count = 0\n",
    "for word in l58:\n",
    "    count = count+1\n",
    "print(count)"
   ]
  },
  {
   "cell_type": "code",
   "execution_count": 23,
   "id": "41b67e19-e32a-4680-8545-c3d07a9f9dd0",
   "metadata": {},
   "outputs": [
    {
     "name": "stdin",
     "output_type": "stream",
     "text": [
      " 3\n"
     ]
    },
    {
     "data": {
      "text/plain": [
       "3"
      ]
     },
     "execution_count": 23,
     "metadata": {},
     "output_type": "execute_result"
    }
   ],
   "source": [
    "#4. Count the occurence of an element in a tuple.\n",
    "t2 = (1, 2, 3, 4, 5, 3, 6, 3)\n",
    "ele2 = int(input())\n",
    "t2.count(ele2)"
   ]
  },
  {
   "cell_type": "code",
   "execution_count": 24,
   "id": "5174eef3-56a3-4540-8a2c-f6944a485e15",
   "metadata": {},
   "outputs": [
    {
     "name": "stdin",
     "output_type": "stream",
     "text": [
      " 2\n"
     ]
    },
    {
     "data": {
      "text/plain": [
       "1"
      ]
     },
     "execution_count": 24,
     "metadata": {},
     "output_type": "execute_result"
    }
   ],
   "source": [
    "#5. Find the index of the first occurrence of an element in a tuple.\n",
    "t3 = (1, 2, 3, 4, 5, 3, 6, 3)\n",
    "ele3 = int(input())\n",
    "t2.index(ele3)"
   ]
  },
  {
   "cell_type": "code",
   "execution_count": 26,
   "id": "1c2baa1f-ab54-498c-949f-e5fb03fe017b",
   "metadata": {},
   "outputs": [
    {
     "name": "stdin",
     "output_type": "stream",
     "text": [
      " 6\n"
     ]
    },
    {
     "name": "stdout",
     "output_type": "stream",
     "text": [
      "Exists\n"
     ]
    }
   ],
   "source": [
    "#6. Check if an element exists in a tuple.\n",
    "t4 = (1, 2, 3, 4, 5, 3, 6, 3)\n",
    "ele4 = int(input())\n",
    "if t2.index(ele4):\n",
    "    print('Exists')\n",
    "else:\n",
    "    print('Not Exists')"
   ]
  },
  {
   "cell_type": "code",
   "execution_count": 27,
   "id": "1b1ab2d7-79f5-420e-a46d-ccf4412cfc37",
   "metadata": {},
   "outputs": [
    {
     "name": "stdout",
     "output_type": "stream",
     "text": [
      "[1, 2, 3, 4, 5, 3, 6, 3]\n"
     ]
    }
   ],
   "source": [
    "#7. Convert a tuple to a list.\n",
    "t5 = (1, 2, 3, 4, 5, 3, 6, 3)\n",
    "l59 = list(t5)\n",
    "print(l59)"
   ]
  },
  {
   "cell_type": "code",
   "execution_count": 29,
   "id": "13b858be-e27d-48cd-95e5-b0bcbe20e94f",
   "metadata": {},
   "outputs": [
    {
     "name": "stdout",
     "output_type": "stream",
     "text": [
      "(1, 2, 3, 4, 5, 3, 6, 3)\n"
     ]
    }
   ],
   "source": [
    "#8. Convert a list to a tuple.\n",
    "l60 = [1, 2, 3, 4, 5, 3, 6, 3]\n",
    "t6 = tuple(l60)\n",
    "print(t6)"
   ]
  },
  {
   "cell_type": "code",
   "execution_count": 31,
   "id": "fd28a885-32db-4532-8403-8a784b291757",
   "metadata": {},
   "outputs": [
    {
     "name": "stdout",
     "output_type": "stream",
     "text": [
      "1\n",
      "2\n",
      "3\n"
     ]
    }
   ],
   "source": [
    "#9. Unpack the elements of a tuple into variables.\n",
    "t100 = (1,2,3)\n",
    "a,b,c = t100\n",
    "print(a)\n",
    "print(b)\n",
    "print(c)"
   ]
  },
  {
   "cell_type": "code",
   "execution_count": 31,
   "id": "1282cc83-0d4c-491c-83d0-f6fc347ecc04",
   "metadata": {},
   "outputs": [
    {
     "name": "stdout",
     "output_type": "stream",
     "text": [
      "(2, 4, 6, 8)\n"
     ]
    }
   ],
   "source": [
    "#10. Create a tuple of even numbers from 1 to 10.\n",
    "l61=[]\n",
    "for i in range(1,10):\n",
    "    if i%2 == 0:\n",
    "        l61.append(i)\n",
    "print(tuple(l61))"
   ]
  },
  {
   "cell_type": "code",
   "execution_count": 32,
   "id": "3065695a-01a5-4f13-b8c1-c2658c67289c",
   "metadata": {},
   "outputs": [
    {
     "name": "stdout",
     "output_type": "stream",
     "text": [
      "(1, 3, 5, 7, 9)\n"
     ]
    }
   ],
   "source": [
    "#11. Create a tuple of odd numbers from 1 to 10.\n",
    "l62=[]\n",
    "for i in range(1,10):\n",
    "    if i%2 != 0:\n",
    "        l62.append(i)\n",
    "print(tuple(l62))"
   ]
  },
  {
   "cell_type": "code",
   "execution_count": 33,
   "id": "9fe5abc9-eadd-431c-ac2d-14ca4527fd61",
   "metadata": {},
   "outputs": [
    {
     "name": "stdout",
     "output_type": "stream",
     "text": [
      "(1, 2, 3, 4, 5, 3, 6, 3, 9, 6, 3, 2, 4, 8)\n"
     ]
    }
   ],
   "source": [
    "#12. Concatenate two tuples.\n",
    "t6 = (1, 2, 3, 4, 5, 3, 6, 3)\n",
    "t7 = (9, 6, 3, 2, 4, 8)\n",
    "t8 = t6+t7\n",
    "print(t8)"
   ]
  },
  {
   "cell_type": "code",
   "execution_count": 34,
   "id": "ba4dd225-b760-4f84-ada6-7d04202f6a82",
   "metadata": {},
   "outputs": [
    {
     "name": "stdout",
     "output_type": "stream",
     "text": [
      "(9, 6, 3, 2, 4, 8, 9, 6, 3, 2, 4, 8, 9, 6, 3, 2, 4, 8)\n"
     ]
    }
   ],
   "source": [
    "#13. Repeat a tuple three times.\n",
    "t8 = (9, 6, 3, 2, 4, 8)\n",
    "t8 = t8*3\n",
    "print(t8)"
   ]
  },
  {
   "cell_type": "code",
   "execution_count": 1,
   "id": "4fc49cba-ae01-4b92-8ca3-690d8253fa74",
   "metadata": {},
   "outputs": [
    {
     "name": "stdout",
     "output_type": "stream",
     "text": [
      "Tuple is empty\n"
     ]
    }
   ],
   "source": [
    "#14. Check if a tuple is empty.\n",
    "t9 = ()\n",
    "if t9 == ():\n",
    "    print('Tuple is empty')\n",
    "else:\n",
    "    print('Tuple')"
   ]
  },
  {
   "cell_type": "code",
   "execution_count": 3,
   "id": "b68d058b-b7b3-4a5a-baa5-b66cfb3ba445",
   "metadata": {},
   "outputs": [
    {
     "name": "stdout",
     "output_type": "stream",
     "text": [
      "((1, 2, 3), ('a', 'b', 'c'))\n"
     ]
    }
   ],
   "source": [
    "#15. Create a nested tuple.\n",
    "t10 = (1,2,3)\n",
    "t11 = ('a' , 'b' , 'c')\n",
    "t12 = (t10,t11)\n",
    "print(t12)"
   ]
  },
  {
   "cell_type": "code",
   "execution_count": 5,
   "id": "34828de0-7652-471e-a45d-eea61128b2c8",
   "metadata": {},
   "outputs": [
    {
     "name": "stdout",
     "output_type": "stream",
     "text": [
      "1\n"
     ]
    }
   ],
   "source": [
    "#16. Access the first element of a nested tuple.\n",
    "t13 = ((1,2,3),('a','b','c'))\n",
    "print(t13[0][0])\n"
   ]
  },
  {
   "cell_type": "code",
   "execution_count": 8,
   "id": "7785974d-d6d7-4253-9b4e-3923f0c3c77b",
   "metadata": {},
   "outputs": [
    {
     "name": "stdout",
     "output_type": "stream",
     "text": [
      "(42,)\n"
     ]
    }
   ],
   "source": [
    "#17. Create a tuple with a single element.\n",
    "t14 = (42,)\n",
    "print(t14)"
   ]
  },
  {
   "cell_type": "code",
   "execution_count": 9,
   "id": "7633623e-922e-4750-8cda-72a1a9802899",
   "metadata": {},
   "outputs": [
    {
     "name": "stdout",
     "output_type": "stream",
     "text": [
      "Same\n"
     ]
    }
   ],
   "source": [
    "#18. Compare two tuples.\n",
    "t15 = (1,2,3)\n",
    "t16 = (1,2,3)\n",
    "if t15 == t16:\n",
    "    print('Same')\n",
    "else:\n",
    "    print('Not same')"
   ]
  },
  {
   "cell_type": "code",
   "execution_count": 12,
   "id": "7e64a543-61af-4b5e-9ce3-65b5e61b1fec",
   "metadata": {},
   "outputs": [
    {
     "name": "stdout",
     "output_type": "stream",
     "text": [
      "Deleted\n"
     ]
    }
   ],
   "source": [
    "#19. Delete a tuple.\n",
    "t17 = (1,2,3)\n",
    "del t17\n",
    "try:\n",
    "    print(t17)\n",
    "except NameError:\n",
    "    print(f'Deleted')"
   ]
  },
  {
   "cell_type": "code",
   "execution_count": 13,
   "id": "a290cab6-498c-4a4d-af04-5edab7da4bbc",
   "metadata": {},
   "outputs": [
    {
     "name": "stdout",
     "output_type": "stream",
     "text": [
      "(1, 2, 3)\n"
     ]
    }
   ],
   "source": [
    "#20. Slice a tuple.\n",
    "t18 = (1,2,3,4,5,6,7,8)\n",
    "t19 = t18[0:3]\n",
    "print(t19)"
   ]
  },
  {
   "cell_type": "code",
   "execution_count": 16,
   "id": "d240c2a3-9399-422f-b548-640c39738c8c",
   "metadata": {},
   "outputs": [
    {
     "name": "stdout",
     "output_type": "stream",
     "text": [
      "9\n"
     ]
    }
   ],
   "source": [
    "#21. Find the maximum value in a tuple.\n",
    "t20 = (7,5,8,2,9)\n",
    "lt20 = len(t20)\n",
    "max = 0\n",
    "for i in range(0,lt20):\n",
    "    if max < t20[i]:\n",
    "        max = t20[i]\n",
    "print(max)\n",
    "    "
   ]
  },
  {
   "cell_type": "code",
   "execution_count": 22,
   "id": "3bb57502-4258-439d-9074-b4c550d7e56b",
   "metadata": {},
   "outputs": [
    {
     "name": "stdout",
     "output_type": "stream",
     "text": [
      "2\n"
     ]
    }
   ],
   "source": [
    "#22. Find the minimum value in a tuple.\n",
    "t21 = (7,5,8,2,9)\n",
    "lt21 = len(t21)\n",
    "min = t21[0]\n",
    "for i in range(0,lt21):\n",
    "    if min > t21[i]:\n",
    "        min = t21[i]\n",
    "print(min)"
   ]
  },
  {
   "cell_type": "code",
   "execution_count": 27,
   "id": "2f850fd0-677d-4e63-be45-436b36003f65",
   "metadata": {},
   "outputs": [
    {
     "name": "stdout",
     "output_type": "stream",
     "text": [
      "('V', 'i', 'n', 'e', 'e', 't', ' ', 'B', 'h', 'o', 'g', 'e')\n"
     ]
    }
   ],
   "source": [
    "#23. Convert a string to a tuple of characters.\n",
    "stt = 'Vineet Bhoge'\n",
    "t22 = tuple(stt)\n",
    "print(t22)"
   ]
  },
  {
   "cell_type": "code",
   "execution_count": 35,
   "id": "5c462fe7-ed48-48d8-9ec2-fbd78b061d30",
   "metadata": {},
   "outputs": [
    {
     "name": "stdout",
     "output_type": "stream",
     "text": [
      "abcd\n"
     ]
    }
   ],
   "source": [
    "#24. Convert a tuple of characters to a string.\n",
    "t23 = ('a','b','c','d')\n",
    "strt = ''.join(t23)\n",
    "print(strt)"
   ]
  },
  {
   "cell_type": "code",
   "execution_count": 37,
   "id": "1b59ddac-0456-4d81-8d76-77b2a15ca994",
   "metadata": {},
   "outputs": [
    {
     "name": "stdout",
     "output_type": "stream",
     "text": [
      "(1, 2, 3, 'a', 'b', 'c', True, False)\n"
     ]
    }
   ],
   "source": [
    "#25. Create a tuple from multiple data types.\n",
    "t24 = (1,2,3,'a','b','c',True,False)\n",
    "print(t24)"
   ]
  },
  {
   "cell_type": "code",
   "execution_count": 39,
   "id": "7462e855-4165-4832-b595-b13233708231",
   "metadata": {},
   "outputs": [
    {
     "name": "stdout",
     "output_type": "stream",
     "text": [
      "Same\n"
     ]
    }
   ],
   "source": [
    "#26. Check if two tuples are identical.\n",
    "t25 = (1,2,3)\n",
    "t26 = (1,2,3)\n",
    "if t15 == t16:\n",
    "    print('Same')\n",
    "else:\n",
    "    print('Not same')"
   ]
  },
  {
   "cell_type": "code",
   "execution_count": 40,
   "id": "10aeef26-1ea8-4110-be3c-911532cedd27",
   "metadata": {},
   "outputs": [
    {
     "name": "stdout",
     "output_type": "stream",
     "text": [
      "(0, 1, 4, 6, 7, 8)\n"
     ]
    }
   ],
   "source": [
    "#27. Sort the elements of a tuple.\n",
    "t27 = (1,8,4,0,7,6)\n",
    "st = set(t27)\n",
    "t28 = tuple(st)\n",
    "print(t28)"
   ]
  },
  {
   "cell_type": "code",
   "execution_count": 48,
   "id": "520c09a0-59de-46c0-84a2-c82ed8964217",
   "metadata": {},
   "outputs": [
    {
     "name": "stdout",
     "output_type": "stream",
     "text": [
      "('1', '2', '3', '4')\n"
     ]
    }
   ],
   "source": [
    "#28. Convert a tuple of integers to a tuple of strings.\n",
    "t29 = (1,2,3,4)\n",
    "t30 = tuple(str(i) for i in t29)\n",
    "print(t30)\n"
   ]
  },
  {
   "cell_type": "code",
   "execution_count": 49,
   "id": "629588fa-bfe3-4e86-86ed-13b23481313c",
   "metadata": {},
   "outputs": [
    {
     "name": "stdout",
     "output_type": "stream",
     "text": [
      "(1, 2, 3, 4)\n"
     ]
    }
   ],
   "source": [
    "#29. Convert a tuple of strings to a tuple of integers.\n",
    "t31 = ('1', '2', '3', '4')\n",
    "t32 = tuple(int(i) for i in t31)\n",
    "print(t32)"
   ]
  },
  {
   "cell_type": "code",
   "execution_count": 50,
   "id": "e06c58a2-cd99-4195-863b-f38d12078a1f",
   "metadata": {},
   "outputs": [
    {
     "name": "stdout",
     "output_type": "stream",
     "text": [
      "(1, 2, 3, 'a', 'b', 'c')\n"
     ]
    }
   ],
   "source": [
    "#30. Merge two tuples.\n",
    "t33 = (1,2,3)\n",
    "t34 = ('a','b','c')\n",
    "t35 = t33+t34\n",
    "print(t35)"
   ]
  },
  {
   "cell_type": "code",
   "execution_count": 64,
   "id": "9171ac5d-66bf-4ec6-b85b-4f3f03825737",
   "metadata": {},
   "outputs": [
    {
     "name": "stdout",
     "output_type": "stream",
     "text": [
      "(1, 2, 3, 'a', 'b', 'c')\n"
     ]
    }
   ],
   "source": [
    "#31. Flatten a nested tuple.\n",
    "t36 = ((1, 2, 3), ('a', 'b', 'c'))\n",
    "t37= []\n",
    "for subtuple in t36:\n",
    "    t37.extend(subtuple)\n",
    "t38 = tuple(t37)\n",
    "print(t38)"
   ]
  },
  {
   "cell_type": "code",
   "execution_count": 61,
   "id": "fde78a48-b076-482a-8899-5860e4025674",
   "metadata": {},
   "outputs": [
    {
     "name": "stdout",
     "output_type": "stream",
     "text": [
      "(2, 3, 5, 7, 11)\n"
     ]
    }
   ],
   "source": [
    "#32. Create a tuple of the first 5 prime numbers.\n",
    "p = []\n",
    "for nt in range(2,51):\n",
    "    pri = True\n",
    "    for i in range(2,int(nt**0.5)+1):\n",
    "        if nt % i == 0:\n",
    "            pri = False\n",
    "            break\n",
    "    if pri:\n",
    "        p.append(nt)\n",
    "p100 = p[0:5]\n",
    "p111 = tuple(p100)\n",
    "print(p111)"
   ]
  },
  {
   "cell_type": "code",
   "execution_count": 69,
   "id": "e00b8331-fae0-4f01-b3bd-7a5d2ac5e25e",
   "metadata": {},
   "outputs": [
    {
     "name": "stdout",
     "output_type": "stream",
     "text": [
      "Palindrome\n"
     ]
    }
   ],
   "source": [
    "#33. Check if a tuple is a palindrome.\n",
    "t38 = (1,2,3,2,1)\n",
    "if t38 == t38[::-1]:\n",
    "    print('Palindrome')\n",
    "else:\n",
    "    print('Not Palindrome')"
   ]
  },
  {
   "cell_type": "code",
   "execution_count": 74,
   "id": "14d8a16b-f714-4fa8-966f-0a0760ffed13",
   "metadata": {},
   "outputs": [
    {
     "name": "stdout",
     "output_type": "stream",
     "text": [
      "(1, 4, 9, 16, 25)\n"
     ]
    }
   ],
   "source": [
    "#34. Create a tuple of squares of numbers from 1 to 5.\n",
    "t39 = []\n",
    "for i in range(1,6):\n",
    "    t39.append(i*i)\n",
    "t40 = tuple(t39)\n",
    "print(t40)\n",
    "    "
   ]
  },
  {
   "cell_type": "code",
   "execution_count": 80,
   "id": "fdc215f2-ae54-402e-a440-e24bb419c472",
   "metadata": {},
   "outputs": [
    {
     "name": "stdout",
     "output_type": "stream",
     "text": [
      "(2, 4, 6, 8)\n"
     ]
    }
   ],
   "source": [
    "#35. Filter out all even numbers from a tuple.\n",
    "t41 = (1,2,3,4,5,6,7,8,9)\n",
    "t42 = tuple(i for i in t41 if i%2==0)\n",
    "print(t42)"
   ]
  },
  {
   "cell_type": "code",
   "execution_count": 83,
   "id": "9d28f1d5-20ff-49ae-8720-7c8902a896ea",
   "metadata": {},
   "outputs": [
    {
     "name": "stdout",
     "output_type": "stream",
     "text": [
      "(1, 4, 9, 16, 25)\n"
     ]
    }
   ],
   "source": [
    "#36. Multiply all elements in a tuple by 2.\n",
    "t43 = (1,2,3,4,5)\n",
    "t44 = tuple( i*i for i in t43)\n",
    "print(t44)"
   ]
  },
  {
   "cell_type": "code",
   "execution_count": 90,
   "id": "efd789b1-8367-426c-92ea-6402a90b3889",
   "metadata": {},
   "outputs": [
    {
     "name": "stdout",
     "output_type": "stream",
     "text": [
      "(73, 1, 26, 59, 62)\n"
     ]
    }
   ],
   "source": [
    "#37. Create a tuple of random numbers.\n",
    "import random\n",
    "t45 = tuple(random.randint(0, 100) for _ in range(0,5))\n",
    "print(t45)"
   ]
  },
  {
   "cell_type": "code",
   "execution_count": 95,
   "id": "3307dcc1-44ec-437e-9d78-d161f6ecfeb3",
   "metadata": {},
   "outputs": [
    {
     "name": "stdout",
     "output_type": "stream",
     "text": [
      "not sort\n"
     ]
    }
   ],
   "source": [
    "#38. Check if a tuple is sorted.\n",
    "t46 = (1,5,3,9)\n",
    "t47 = tuple(sorted(t46))\n",
    "if t46 == t47:\n",
    "    print(f'sort')\n",
    "else:\n",
    "    print(f'not sort')"
   ]
  },
  {
   "cell_type": "code",
   "execution_count": 106,
   "id": "98742e9d-6c40-4fd6-ba82-057541211482",
   "metadata": {},
   "outputs": [
    {
     "name": "stdin",
     "output_type": "stream",
     "text": [
      " 4\n"
     ]
    },
    {
     "name": "stdout",
     "output_type": "stream",
     "text": [
      "(5, 6, 7, 8, 9, 0, 1, 2, 3, 4)\n"
     ]
    }
   ],
   "source": [
    "#39. Rotate a tuple to the left by `n` positions.\n",
    "t48 = (1,2,3,4,5,6,7,8,9,0)\n",
    "ind = int(input())\n",
    "t49 = t48[ind:] + t48[0:ind]\n",
    "print(t49)"
   ]
  },
  {
   "cell_type": "code",
   "execution_count": 111,
   "id": "1f8289b3-5edb-4d05-beac-cff6b24a4c75",
   "metadata": {},
   "outputs": [
    {
     "name": "stdin",
     "output_type": "stream",
     "text": [
      " 2\n"
     ]
    },
    {
     "name": "stdout",
     "output_type": "stream",
     "text": [
      "(7, 8, 9, 0, 1, 2, 3, 4, 5, 6)\n"
     ]
    }
   ],
   "source": [
    "#40. Rotate a tuple to the right by `n` positions.\n",
    "t50 = (1,2,3,4,5,6,7,8,9,0)\n",
    "ind1 = int(input())\n",
    "t51 = t48[-ind:] + t48[:-ind]\n",
    "print(t51)"
   ]
  },
  {
   "cell_type": "code",
   "execution_count": 2,
   "id": "e15b2044-f52b-4b58-9fba-e0aed03df2fa",
   "metadata": {},
   "outputs": [
    {
     "name": "stdout",
     "output_type": "stream",
     "text": [
      "[0, 1, 1, 2, 3]\n"
     ]
    }
   ],
   "source": [
    "#41. Create a tuple of the first 5 Fibonacci numbers.\n",
    "fib= [0,1]\n",
    "for i in range(2,5):\n",
    "    nu = fib[i-1] + fib[i-2]\n",
    "    fib.append(nu)\n",
    "print(fib)"
   ]
  },
  {
   "cell_type": "code",
   "execution_count": 5,
   "id": "ceeabec0-0c4c-4be9-953f-634359ef222e",
   "metadata": {},
   "outputs": [
    {
     "name": "stdin",
     "output_type": "stream",
     "text": [
      " My name is Nico Williams\n"
     ]
    },
    {
     "name": "stdout",
     "output_type": "stream",
     "text": [
      "('M', 'y', ' ', 'n', 'a', 'm', 'e', ' ', 'i', 's', ' ', 'N', 'i', 'c', 'o', ' ', 'W', 'i', 'l', 'l', 'i', 'a', 'm', 's')\n"
     ]
    }
   ],
   "source": [
    "#42. Create a tuple from user input.\n",
    "t52 = tuple(input())\n",
    "print(t52)"
   ]
  },
  {
   "cell_type": "code",
   "execution_count": 10,
   "id": "d905c9d3-eacd-4aac-bf75-457b22e160e7",
   "metadata": {},
   "outputs": [
    {
     "name": "stdin",
     "output_type": "stream",
     "text": [
      " 5\n",
      " 1\n"
     ]
    },
    {
     "name": "stdout",
     "output_type": "stream",
     "text": [
      "(1, 6, 3, 4, 5, 2, 7, 8, 9)\n"
     ]
    }
   ],
   "source": [
    "#43. Swap two elements in a tuple.\n",
    "t53 = (1,2,3,4,5,6,7,8,9)\n",
    "in1 = int(input())\n",
    "in2 = int(input())\n",
    "t54 = list(t53)\n",
    "x,y = t54[in1],t54[in2] \n",
    "t54[in1],t54[in2] = y,x\n",
    "t55 = tuple(t54)\n",
    "print(t55)"
   ]
  },
  {
   "cell_type": "code",
   "execution_count": 11,
   "id": "6c2eed16-2539-4803-858f-2a10f026ddcd",
   "metadata": {},
   "outputs": [
    {
     "name": "stdout",
     "output_type": "stream",
     "text": [
      "(9, 8, 7, 6, 5, 4, 3, 2, 1)\n"
     ]
    }
   ],
   "source": [
    "#44. Reverse the elements of a tuple.\n",
    "t56 = (1,2,3,4,5,6,7,8,9)\n",
    "t57 = t56[::-1]\n",
    "print(t57)"
   ]
  },
  {
   "cell_type": "code",
   "execution_count": 14,
   "id": "abd6a920-17d1-4cdb-9dd6-b1be615a4ac6",
   "metadata": {},
   "outputs": [
    {
     "name": "stdin",
     "output_type": "stream",
     "text": [
      " 6\n"
     ]
    },
    {
     "name": "stdout",
     "output_type": "stream",
     "text": [
      "(1, 2, 4, 8, 16, 32)\n"
     ]
    }
   ],
   "source": [
    "#45. Create a tuple of the first `n` powers of 2\n",
    "n = int(input())\n",
    "t58 = tuple(2**i for i in range(0,n))\n",
    "print(t58)"
   ]
  },
  {
   "cell_type": "code",
   "execution_count": 15,
   "id": "91b15295-a754-4868-ae36-730f8544244b",
   "metadata": {},
   "outputs": [
    {
     "name": "stdout",
     "output_type": "stream",
     "text": [
      "Vineet\n"
     ]
    }
   ],
   "source": [
    "#46. Find the longest string in a tuple of strings.\n",
    "t59 = ('My' , 'Name' , 'is' , 'Vineet' , 'Bhoge')\n",
    "stl = ' '\n",
    "for string in t59:\n",
    "    if len(stl) < len(string):\n",
    "        stl = string\n",
    "print(stl)"
   ]
  },
  {
   "cell_type": "code",
   "execution_count": 16,
   "id": "c71bf80c-cf8f-4c6e-afd8-ff575a11bb77",
   "metadata": {},
   "outputs": [
    {
     "name": "stdout",
     "output_type": "stream",
     "text": [
      "is\n"
     ]
    }
   ],
   "source": [
    "#47. Find the shortest string in a tuple of strings.\n",
    "t60 = ('My' , 'Name' , 'is' , 'Vineet' , 'Bhoge')\n",
    "stll = '     '\n",
    "for string in t60:\n",
    "    if len(stll) > len(string):\n",
    "        stl = string\n",
    "print(stl)"
   ]
  },
  {
   "cell_type": "code",
   "execution_count": 17,
   "id": "5ac092bc-dead-4ec0-832e-f4f5ab1c3e14",
   "metadata": {},
   "outputs": [
    {
     "name": "stdin",
     "output_type": "stream",
     "text": [
      " 5\n"
     ]
    },
    {
     "name": "stdout",
     "output_type": "stream",
     "text": [
      "(0.0, 1.0, 3.0, 6.0, 10.0)\n"
     ]
    }
   ],
   "source": [
    "#48. Create a tuple of the first `n` triangular numbers.\n",
    "t61 = []\n",
    "nuu = int(input())\n",
    "for i in range(0,nuu):\n",
    "    tnu=  (i*(i+1))/2\n",
    "    t61.append(tnu)\n",
    "print(tuple(t61))"
   ]
  },
  {
   "cell_type": "code",
   "execution_count": 1,
   "id": "3b48d59d-61ad-4d2a-b4dc-023616ecfc1e",
   "metadata": {},
   "outputs": [
    {
     "name": "stdout",
     "output_type": "stream",
     "text": [
      "Subsequence\n"
     ]
    }
   ],
   "source": [
    "#49. Check if a tuple contains another tuple as a subsequence.\n",
    "sl = (1, 2)\n",
    "ml = (1, 2, 3, 4)\n",
    "lensl = len(sl)\n",
    "\n",
    "if lensl == 0:\n",
    "    print('Subsequence')\n",
    "else:\n",
    "    subindx = 0\n",
    "    for item in ml:\n",
    "        if item == sl[subindx]:\n",
    "            subindx += 1\n",
    "            if subindx == lensl: \n",
    "                print('Subsequence')\n",
    "                break\n",
    "    else:\n",
    "        print('Not a subsequence')\n"
   ]
  },
  {
   "cell_type": "code",
   "execution_count": 20,
   "id": "14509478-2de1-437c-a0fc-a59411c50ce9",
   "metadata": {},
   "outputs": [
    {
     "name": "stdin",
     "output_type": "stream",
     "text": [
      " 3\n"
     ]
    },
    {
     "name": "stdout",
     "output_type": "stream",
     "text": [
      "(0, 1, 0, 1, 0, 1)\n"
     ]
    }
   ],
   "source": [
    "#50. Create a tuple of alternating 1s and 0s of length `n`.\n",
    "na = int(input())\n",
    "t62 = tuple((i % 2) for i in range(n))\n",
    "print(t62)"
   ]
  },
  {
   "cell_type": "code",
   "execution_count": 21,
   "id": "4f46d98f-63b4-461c-a962-29da78391b2d",
   "metadata": {},
   "outputs": [],
   "source": [
    "#Set Based Practice Problem "
   ]
  },
  {
   "cell_type": "code",
   "execution_count": 24,
   "id": "2e52b921-aaa7-43f9-bed5-6fdb2401fde2",
   "metadata": {},
   "outputs": [
    {
     "name": "stdout",
     "output_type": "stream",
     "text": [
      "{0, 1, 2, 3, 4}\n"
     ]
    }
   ],
   "source": [
    "#1. Create a set with integers from 1 to 5.\n",
    "s1 = {i for i in range(0,5)}\n",
    "print(s1)"
   ]
  },
  {
   "cell_type": "code",
   "execution_count": 27,
   "id": "6690e9ee-7d02-4813-a4c2-ded379b79605",
   "metadata": {},
   "outputs": [
    {
     "name": "stdin",
     "output_type": "stream",
     "text": [
      " 8\n"
     ]
    },
    {
     "name": "stdout",
     "output_type": "stream",
     "text": [
      "{0, 1, 2, 3, 4, 8}\n"
     ]
    }
   ],
   "source": [
    "#2. Add an element to a set.\n",
    "s2 = {0, 1, 2, 3, 4}\n",
    "ae = int(input())\n",
    "s2.add(ae)\n",
    "print(s2)"
   ]
  },
  {
   "cell_type": "code",
   "execution_count": 30,
   "id": "c54f35fd-61a8-42e9-9a17-e868ac77cddb",
   "metadata": {},
   "outputs": [
    {
     "name": "stdin",
     "output_type": "stream",
     "text": [
      " 4\n"
     ]
    },
    {
     "name": "stdout",
     "output_type": "stream",
     "text": [
      "{0, 1, 2, 3, 8}\n"
     ]
    }
   ],
   "source": [
    "#3. Remove an element from a set.\n",
    "s3 = {0, 1, 2, 3, 4, 8}\n",
    "ar = int(input())\n",
    "s3.discard(ar)\n",
    "print(s3)"
   ]
  },
  {
   "cell_type": "code",
   "execution_count": 32,
   "id": "a4aafdd5-d0e2-46ce-afb0-0a2fe782418c",
   "metadata": {},
   "outputs": [
    {
     "name": "stdin",
     "output_type": "stream",
     "text": [
      " 2\n"
     ]
    },
    {
     "name": "stdout",
     "output_type": "stream",
     "text": [
      "Present\n"
     ]
    }
   ],
   "source": [
    "#4. Check if an element exists in a set.\n",
    "s4 = {0, 1, 2, 3, 8}\n",
    "s5 = int(input())\n",
    "if s5 in s4:\n",
    "    print('Present')\n",
    "else:\n",
    "    print('Not Present')"
   ]
  },
  {
   "cell_type": "code",
   "execution_count": 33,
   "id": "5106eabd-a48d-460f-8c54-9a6a79860df3",
   "metadata": {},
   "outputs": [
    {
     "name": "stdout",
     "output_type": "stream",
     "text": [
      "5\n"
     ]
    }
   ],
   "source": [
    "#5. Find the length of a set without using the `len()` function.\n",
    "s6 = {0, 1, 2, 3, 8}\n",
    "c=0\n",
    "for element in s6:\n",
    "    c = c+1\n",
    "print(c)"
   ]
  },
  {
   "cell_type": "code",
   "execution_count": 36,
   "id": "03f97377-6b02-4e11-9c10-47ef72eba24d",
   "metadata": {},
   "outputs": [
    {
     "name": "stdout",
     "output_type": "stream",
     "text": [
      "set()\n"
     ]
    }
   ],
   "source": [
    "#6. Clear all elements from a set.\n",
    "s7 = {0, 1, 2, 3, 8}\n",
    "s7.clear()\n",
    "print(s7)"
   ]
  },
  {
   "cell_type": "code",
   "execution_count": 46,
   "id": "f9d2ea3e-6b0a-4edb-a538-de0e88e579c1",
   "metadata": {},
   "outputs": [
    {
     "name": "stdout",
     "output_type": "stream",
     "text": [
      "{2, 4, 6, 8, 10}\n"
     ]
    }
   ],
   "source": [
    "#7. Create a set of even numbers from 1 to 10.\n",
    "s8 = {i for i in range(1,11) if i%2==0 }\n",
    "print(s8)"
   ]
  },
  {
   "cell_type": "code",
   "execution_count": 47,
   "id": "b062c16e-51e5-48b2-8449-e1ffdab04e58",
   "metadata": {},
   "outputs": [
    {
     "name": "stdout",
     "output_type": "stream",
     "text": [
      "{1, 3, 5, 7, 9}\n"
     ]
    }
   ],
   "source": [
    "#8. Create a set of odd numbers from 1 to 10.\n",
    "s9 = {i for i in range(1,11) if i%2!=0 }\n",
    "print(s9)"
   ]
  },
  {
   "cell_type": "code",
   "execution_count": 49,
   "id": "905c6782-7e4d-44ec-8d13-816588910a89",
   "metadata": {},
   "outputs": [
    {
     "name": "stdout",
     "output_type": "stream",
     "text": [
      "{1, 2, 3, 4, 5, 6, 7, 8}\n"
     ]
    }
   ],
   "source": [
    "#9. Find the union of two sets.\n",
    "s10 = {1,2,3,4,5}\n",
    "s11 = {4,5,6,7,8}\n",
    "s12 = s10.union(s11)\n",
    "print(s12)"
   ]
  },
  {
   "cell_type": "code",
   "execution_count": 51,
   "id": "8b66dba4-e145-45c8-a88a-d82f95b58daa",
   "metadata": {},
   "outputs": [
    {
     "name": "stdout",
     "output_type": "stream",
     "text": [
      "{4, 5}\n"
     ]
    }
   ],
   "source": [
    "#10. Find the intersection of two sets.\n",
    "s13 = {1,2,3,4,5}\n",
    "s14 = {4,5,6,7,8}\n",
    "s15 = s13.intersection(s14)\n",
    "print(s15)"
   ]
  },
  {
   "cell_type": "code",
   "execution_count": 58,
   "id": "643049eb-1898-428c-acdc-25b1b76a5e52",
   "metadata": {},
   "outputs": [
    {
     "name": "stdout",
     "output_type": "stream",
     "text": [
      "{1, 2, 3, 6, 7, 8}\n"
     ]
    }
   ],
   "source": [
    "#11. Find the difference between two sets.\n",
    "s16 = {1,2,3,4,5}\n",
    "s17 = {4,5,6,7,8}\n",
    "s18 = s16.difference(s17)\n",
    "s19 = s17.difference(s16)\n",
    "s20 = s19.union(s18)\n",
    "print(s20)"
   ]
  },
  {
   "cell_type": "code",
   "execution_count": 63,
   "id": "7e23d25c-47ef-44bf-b477-c8f392e4f07e",
   "metadata": {},
   "outputs": [
    {
     "data": {
      "text/plain": [
       "True"
      ]
     },
     "execution_count": 63,
     "metadata": {},
     "output_type": "execute_result"
    }
   ],
   "source": [
    "#12. Check if a set is a subset of another set.\n",
    "s21 = {4,5}\n",
    "s22 = {4,5,6,7,8}\n",
    "s21.issubset(s22)"
   ]
  },
  {
   "cell_type": "code",
   "execution_count": 64,
   "id": "1ec2924e-197e-41c4-940d-b36b93e8925e",
   "metadata": {},
   "outputs": [
    {
     "data": {
      "text/plain": [
       "True"
      ]
     },
     "execution_count": 64,
     "metadata": {},
     "output_type": "execute_result"
    }
   ],
   "source": [
    "#13. Check if a set is a superset of another set.\n",
    "s24 = {4,5}\n",
    "s23 = {4,5,6,7,8}\n",
    "s23.issuperset(s24)"
   ]
  },
  {
   "cell_type": "code",
   "execution_count": 65,
   "id": "1e05f3a7-44de-4daa-bdff-ea4f643325ca",
   "metadata": {},
   "outputs": [
    {
     "name": "stdout",
     "output_type": "stream",
     "text": [
      "{1, 2, 3, 4, 5}\n"
     ]
    }
   ],
   "source": [
    "#14. Create a set from a list.\n",
    "l100 = [1,2,3,4,5]\n",
    "s24 = set(l100)\n",
    "print(s24)"
   ]
  },
  {
   "cell_type": "code",
   "execution_count": 66,
   "id": "b9d7e1ad-e6ac-4d7f-8efc-7fee8f13292b",
   "metadata": {},
   "outputs": [
    {
     "name": "stdout",
     "output_type": "stream",
     "text": [
      "[1, 2, 3, 4, 5]\n"
     ]
    }
   ],
   "source": [
    "#15. Convert a set to a list.\n",
    "s25 = {1, 2, 3, 4, 5}\n",
    "l101 = list(s25)\n",
    "print(l101)"
   ]
  },
  {
   "cell_type": "code",
   "execution_count": 67,
   "id": "b3f2ccbd-811b-4039-8826-2519aaf939cf",
   "metadata": {},
   "outputs": [
    {
     "name": "stdout",
     "output_type": "stream",
     "text": [
      "{71, 74, 12, 19, 85}\n"
     ]
    }
   ],
   "source": [
    "#16. Remove a random element from a set.\n",
    "import random\n",
    "s26 = set(random.randint(0, 100) for _ in range(0,5))\n",
    "print(s26)"
   ]
  },
  {
   "cell_type": "code",
   "execution_count": 70,
   "id": "fc8750a2-5d05-48a6-863e-06cc83c4e802",
   "metadata": {},
   "outputs": [
    {
     "name": "stdout",
     "output_type": "stream",
     "text": [
      "{85, 71, 74, 12}\n"
     ]
    }
   ],
   "source": [
    "#17. Pop an element from a set.\n",
    "s27 = {71, 74, 12, 19, 85}\n",
    "s27.pop()\n",
    "print(s27)"
   ]
  },
  {
   "cell_type": "code",
   "execution_count": 72,
   "id": "89c1c40e-31fd-428c-b94c-f992023bfdd3",
   "metadata": {},
   "outputs": [
    {
     "data": {
      "text/plain": [
       "True"
      ]
     },
     "execution_count": 72,
     "metadata": {},
     "output_type": "execute_result"
    }
   ],
   "source": [
    "#18. Check if two sets have no elements in common.\n",
    "s28 = {71, 74, 12, 19, 85}\n",
    "s29 = {1, 2, 3, 4, 5}\n",
    "s28.isdisjoint(s29)"
   ]
  },
  {
   "cell_type": "code",
   "execution_count": 76,
   "id": "77bd5d73-6e9c-464c-bc38-3fc1c1fe9e2e",
   "metadata": {},
   "outputs": [
    {
     "name": "stdout",
     "output_type": "stream",
     "text": [
      "{1, 2, 5, 6}\n"
     ]
    }
   ],
   "source": [
    "#19. Find the symmetric difference between two sets.\n",
    "s30 = {1,2,3,4}\n",
    "s31 = {3,4,5,6}\n",
    "s32 = s30.symmetric_difference(s31)\n",
    "print(s32)\n",
    "                            "
   ]
  },
  {
   "cell_type": "code",
   "execution_count": 29,
   "id": "b527f0db-d9f3-410c-8dfd-a5f86e03616e",
   "metadata": {},
   "outputs": [
    {
     "name": "stdout",
     "output_type": "stream",
     "text": [
      "{1, 2, 3, 4}\n"
     ]
    }
   ],
   "source": [
    "#20. Update a set with elements from another set.\n",
    "s88 = {1,2}\n",
    "s89 = {3,4}\n",
    "s88.update(s89)\n",
    "print(s88)"
   ]
  },
  {
   "cell_type": "code",
   "execution_count": 62,
   "id": "b8bc07c5-a2b9-43f0-bf3b-4b7599ab5c71",
   "metadata": {},
   "outputs": [
    {
     "name": "stdout",
     "output_type": "stream",
     "text": [
      "{2, 3, 5, 7, 11}\n"
     ]
    }
   ],
   "source": [
    "#21. Create a set of the first 5 prime numbers.\n",
    "p = []\n",
    "for nt in range(2,51):\n",
    "    pri = True\n",
    "    for i in range(2,int(nt**0.5)+1):\n",
    "        if nt % i == 0:\n",
    "            pri = False\n",
    "            break\n",
    "    if pri:\n",
    "        p.append(nt)\n",
    "p100 = p[0:5]\n",
    "p111 = set(p100)\n",
    "print(p111)"
   ]
  },
  {
   "cell_type": "code",
   "execution_count": 79,
   "id": "c3196978-04ae-4ced-8d0d-796ebba79404",
   "metadata": {},
   "outputs": [
    {
     "name": "stdout",
     "output_type": "stream",
     "text": [
      "Identical\n"
     ]
    }
   ],
   "source": [
    "#22. Check if two sets are identical.\n",
    "s33 = {1,2,3,4}\n",
    "s34 = {1,2,3,4}\n",
    "if s33 == s34:\n",
    "    print('Identical')\n",
    "else:\n",
    "    print('Not Identical')"
   ]
  },
  {
   "cell_type": "code",
   "execution_count": 81,
   "id": "87833bb6-01ab-45b2-b660-5609d6c53e1f",
   "metadata": {},
   "outputs": [
    {
     "name": "stdout",
     "output_type": "stream",
     "text": [
      "frozenset[1, 2, 3, 4, 5]\n"
     ]
    }
   ],
   "source": [
    "#23. Create a frozen set.\n",
    "s35 = frozenset[(1,2,3,4,5)]\n",
    "print(s35)"
   ]
  },
  {
   "cell_type": "code",
   "execution_count": 84,
   "id": "5a5a84a7-9a54-4796-bd73-7459cd36cb44",
   "metadata": {},
   "outputs": [
    {
     "data": {
      "text/plain": [
       "True"
      ]
     },
     "execution_count": 84,
     "metadata": {},
     "output_type": "execute_result"
    }
   ],
   "source": [
    "#24. Check if a set is disjoint with another set.\n",
    "s36 = {1,2,3}\n",
    "s37 = (4,5)\n",
    "s36.isdisjoint(s37)"
   ]
  },
  {
   "cell_type": "code",
   "execution_count": 88,
   "id": "1df70c7d-8dbf-4118-b247-27bc495ebdec",
   "metadata": {},
   "outputs": [
    {
     "name": "stdout",
     "output_type": "stream",
     "text": [
      "{1, 4, 9, 16, 25}\n"
     ]
    }
   ],
   "source": [
    "#25. Create a set of squares of numbers from 1 to 5.\n",
    "s38 = {i*i for i in range(1,6)}\n",
    "print(s38)"
   ]
  },
  {
   "cell_type": "code",
   "execution_count": 94,
   "id": "49b5e382-db82-4262-89c7-4cbe65fd7e05",
   "metadata": {},
   "outputs": [
    {
     "name": "stdout",
     "output_type": "stream",
     "text": [
      "{2, 4, 6, 8, 10}\n"
     ]
    }
   ],
   "source": [
    "#26. Filter out all even numbers from a set.\n",
    "s39 = {1,2,3,4,5,6,7,8,9,10}\n",
    "s40 = {i for i in s39 if i%2==0}\n",
    "print(s40)"
   ]
  },
  {
   "cell_type": "code",
   "execution_count": 95,
   "id": "e7db0fe0-3315-403a-b8aa-ba87b4540deb",
   "metadata": {},
   "outputs": [
    {
     "name": "stdout",
     "output_type": "stream",
     "text": [
      "{2, 4, 6, 8, 10, 12, 14, 16, 18, 20}\n"
     ]
    }
   ],
   "source": [
    "#27. Multiply all elements in a set by 2.\n",
    "s41 = {1,2,3,4,5,6,7,8,9,10}\n",
    "s42 = {i*2 for i in s39}\n",
    "print(s42)"
   ]
  },
  {
   "cell_type": "code",
   "execution_count": 96,
   "id": "dbde9c9e-22bc-4752-8041-76bbe4b18e3e",
   "metadata": {},
   "outputs": [
    {
     "name": "stdout",
     "output_type": "stream",
     "text": [
      "{37, 5, 38, 72, 12}\n"
     ]
    }
   ],
   "source": [
    "#28. Create a set of random numbers.\n",
    "import random\n",
    "s43 = set(random.randint(0, 100) for _ in range(0,5))\n",
    "print(s43)"
   ]
  },
  {
   "cell_type": "code",
   "execution_count": 98,
   "id": "baec7cf4-10cf-46b2-8621-2ff22a2fad6f",
   "metadata": {},
   "outputs": [
    {
     "name": "stdout",
     "output_type": "stream",
     "text": [
      "empty\n"
     ]
    }
   ],
   "source": [
    "#29. Check if a set is empty.\n",
    "s44 = {}\n",
    "s45 = {}\n",
    "if s44 == s45:\n",
    "    print(f'empty')\n",
    "else:\n",
    "    print(f'not empty')"
   ]
  },
  {
   "cell_type": "code",
   "execution_count": 30,
   "id": "447ec315-0307-4ac1-b53d-fd41585729b2",
   "metadata": {},
   "outputs": [
    {
     "name": "stdout",
     "output_type": "stream",
     "text": [
      "{frozenset({3, 4}), frozenset({1, 2})}\n"
     ]
    }
   ],
   "source": [
    "#30. Create a nested set (hint: use frozenset). 90\n",
    "s91 = frozenset({1, 2})\n",
    "s92 = frozenset({3, 4})\n",
    "nested_set = {s91, s92}\n",
    "print(nested_set)\n"
   ]
  },
  {
   "cell_type": "code",
   "execution_count": 100,
   "id": "9643f7fa-924e-4bb3-86fc-233eff4b7f0e",
   "metadata": {},
   "outputs": [
    {
     "name": "stdin",
     "output_type": "stream",
     "text": [
      " 4\n"
     ]
    },
    {
     "name": "stdout",
     "output_type": "stream",
     "text": [
      "{1, 2, 3, 5}\n"
     ]
    }
   ],
   "source": [
    "#31. Remove an element from a set using the discard method.\n",
    "s46 = {1,2,3,4,5}\n",
    "s47 = int(input())\n",
    "s46.discard(s47)\n",
    "print(s46)"
   ]
  },
  {
   "cell_type": "code",
   "execution_count": 101,
   "id": "fd0a3399-7eb0-4183-9db1-092b654b3294",
   "metadata": {},
   "outputs": [
    {
     "name": "stdout",
     "output_type": "stream",
     "text": [
      "not same\n"
     ]
    }
   ],
   "source": [
    "#32. Compare two sets.\n",
    "s48 = {1,2,3,4}\n",
    "s49 = {7,8,9,0}\n",
    "if s48 == s49:\n",
    "    print(f'same set')\n",
    "else:\n",
    "    print(f'not same')"
   ]
  },
  {
   "cell_type": "code",
   "execution_count": 102,
   "id": "fbb9f2d7-b7fa-46bb-b4a4-33134540a299",
   "metadata": {},
   "outputs": [
    {
     "name": "stdout",
     "output_type": "stream",
     "text": [
      "{'o', ' ', 'i', 'g', 'B', 'n', 'V', 'h', 't', 'e'}\n"
     ]
    }
   ],
   "source": [
    "#33. Create a set from a string.\n",
    "s50 = 'Vineet Bhoge'\n",
    "s51 = set(s50)\n",
    "print(s51)"
   ]
  },
  {
   "cell_type": "code",
   "execution_count": 109,
   "id": "a352a86d-513a-444d-9bed-7b30050f173a",
   "metadata": {},
   "outputs": [
    {
     "name": "stdout",
     "output_type": "stream",
     "text": [
      "{1, 2, 3, 4}\n"
     ]
    }
   ],
   "source": [
    "#34. Convert a set of strings to a set of integers.\n",
    "s52 = {'1','2','3','4'}\n",
    "s53 = {int(i) for i in s52}\n",
    "print(s53)"
   ]
  },
  {
   "cell_type": "code",
   "execution_count": 110,
   "id": "08a6b828-68c8-4e80-b75d-4547b3eb7014",
   "metadata": {},
   "outputs": [
    {
     "name": "stdout",
     "output_type": "stream",
     "text": [
      "{'1', '2', '3', '4'}\n"
     ]
    }
   ],
   "source": [
    "#35. Convert a set of integers to a set of strings.\n",
    "s54 = {1, 2, 3, 4}\n",
    "s55 = {str(i) for i in s54}\n",
    "print(s55)"
   ]
  },
  {
   "cell_type": "code",
   "execution_count": 114,
   "id": "adec2f92-82ab-4054-9136-0d5d8059fe01",
   "metadata": {},
   "outputs": [
    {
     "name": "stdout",
     "output_type": "stream",
     "text": [
      "{1, 2, 3, 4, 5}\n"
     ]
    }
   ],
   "source": [
    "#36. Create a set from a tuple.\n",
    "s56 = (1,2,3,4,5)\n",
    "s57 = set(s56)\n",
    "print(s57)"
   ]
  },
  {
   "cell_type": "code",
   "execution_count": 115,
   "id": "46c46a1b-96b5-4c0d-8c98-0ababc592c1e",
   "metadata": {},
   "outputs": [
    {
     "name": "stdout",
     "output_type": "stream",
     "text": [
      "(1, 2, 3, 4, 5)\n"
     ]
    }
   ],
   "source": [
    "#37. Convert a set to a tuple.\n",
    "s58 = {1, 2, 3, 4, 5}\n",
    "s59 = tuple(s58)\n",
    "print(s59)"
   ]
  },
  {
   "cell_type": "code",
   "execution_count": 119,
   "id": "46f12bd4-e20f-4c10-9f12-f3ba9a5db558",
   "metadata": {},
   "outputs": [
    {
     "name": "stdout",
     "output_type": "stream",
     "text": [
      "9\n"
     ]
    }
   ],
   "source": [
    "#38. Find the maximum value in a set.\n",
    "s58 = {1, 2, 3, 4, 5, 6, 7, 8, 9}\n",
    "s59 = max(s58)\n",
    "print(s59)"
   ]
  },
  {
   "cell_type": "code",
   "execution_count": 121,
   "id": "03070129-b43d-4f8b-904a-4d594005354e",
   "metadata": {},
   "outputs": [
    {
     "name": "stdout",
     "output_type": "stream",
     "text": [
      "1\n"
     ]
    }
   ],
   "source": [
    "#39. Find the minimum value in a set.\n",
    "s60 = {1, 2, 3, 4, 5, 6, 7, 8, 9}\n",
    "s61 = min(s60)\n",
    "print(s61)"
   ]
  },
  {
   "cell_type": "code",
   "execution_count": 122,
   "id": "151c6fb8-fbac-4f3b-b9c1-28ce6e04e427",
   "metadata": {},
   "outputs": [
    {
     "name": "stdin",
     "output_type": "stream",
     "text": [
      " 1 2 3 vineet\n"
     ]
    },
    {
     "name": "stdout",
     "output_type": "stream",
     "text": [
      "{'1', ' ', 'i', 'n', '2', 'v', '3', 't', 'e'}\n"
     ]
    }
   ],
   "source": [
    "#40. Create a set from user input.\n",
    "s62 = set(input())\n",
    "print(s62)"
   ]
  },
  {
   "cell_type": "code",
   "execution_count": 123,
   "id": "630c8624-0b30-46a6-9b2e-2c0e2b6e2cbe",
   "metadata": {},
   "outputs": [
    {
     "data": {
      "text/plain": [
       "True"
      ]
     },
     "execution_count": 123,
     "metadata": {},
     "output_type": "execute_result"
    }
   ],
   "source": [
    "#41. Check if the intersection of two sets is empty.\n",
    "s63 = {1,2,3}\n",
    "s64 = (4,5)\n",
    "s63.isdisjoint(s64)"
   ]
  },
  {
   "cell_type": "code",
   "execution_count": 124,
   "id": "30b33fb8-8624-4b3c-aac5-312a3e745118",
   "metadata": {},
   "outputs": [
    {
     "name": "stdout",
     "output_type": "stream",
     "text": [
      "{0, 1, 2, 3}\n"
     ]
    }
   ],
   "source": [
    "#42. Create a set of the first 5 Fibonacci numbers.\n",
    "fibb= [0,1]\n",
    "for i in range(2,5):\n",
    "    nub = fibb[i-1] + fibb[i-2]\n",
    "    fibb.append(nub)\n",
    "print(set(fibb))"
   ]
  },
  {
   "cell_type": "code",
   "execution_count": 125,
   "id": "2dc8c13c-b669-463d-aaee-8d45e9427e0d",
   "metadata": {},
   "outputs": [
    {
     "name": "stdout",
     "output_type": "stream",
     "text": [
      "{1, 2, 3, 4}\n"
     ]
    }
   ],
   "source": [
    "#43. Remove duplicates from a list using sets.\n",
    "s65 = [1,2,3,4,3,2,1]\n",
    "s67 = set(s65)\n",
    "print(s67)"
   ]
  },
  {
   "cell_type": "code",
   "execution_count": 38,
   "id": "2aa1f49f-b294-420f-806a-d3c1ac1ebe02",
   "metadata": {},
   "outputs": [
    {
     "name": "stdout",
     "output_type": "stream",
     "text": [
      "True\n"
     ]
    }
   ],
   "source": [
    "#44. Check if two sets have the same elements, regardless of their count.\n",
    "s100 = {1, 2, 2, 3}\n",
    "s101 = {3, 1, 2, 2}\n",
    "s110 = set(s100)\n",
    "s111 = set(s101)\n",
    "are_equal = s110 == s111\n",
    "print(are_equal)"
   ]
  },
  {
   "cell_type": "code",
   "execution_count": 127,
   "id": "0fb7719c-5ade-429d-b27f-89f9dd5ded3b",
   "metadata": {},
   "outputs": [
    {
     "name": "stdin",
     "output_type": "stream",
     "text": [
      " 5\n"
     ]
    },
    {
     "name": "stdout",
     "output_type": "stream",
     "text": [
      "{1, 2, 4, 8, 16}\n"
     ]
    }
   ],
   "source": [
    "#45. Create a set of the first `n` powers of 2.\n",
    "ns = int(input())\n",
    "s68 = set(2**i for i in range(0,ns))\n",
    "print(s68)"
   ]
  },
  {
   "cell_type": "code",
   "execution_count": 5,
   "id": "a0fa728c-2d01-40f1-a718-7d995ccccd1b",
   "metadata": {},
   "outputs": [
    {
     "name": "stdout",
     "output_type": "stream",
     "text": [
      "[4, 5]\n"
     ]
    }
   ],
   "source": [
    "#46. Find the common elements between a set and a list.\n",
    "s69 ={1,2,3,4,5}\n",
    "s70 = [4,5,6,7,8]\n",
    "s80 = []\n",
    "for element in s69:\n",
    "    if element in s70:\n",
    "        s80.append(element)\n",
    "print(s80)\n",
    "        "
   ]
  },
  {
   "cell_type": "code",
   "execution_count": 17,
   "id": "89fc7769-b3af-4e89-8aea-a21aa09698d4",
   "metadata": {},
   "outputs": [
    {
     "name": "stdin",
     "output_type": "stream",
     "text": [
      " 5\n"
     ]
    },
    {
     "name": "stdout",
     "output_type": "stream",
     "text": [
      "{0.0, 1.0, 3.0, 6.0, 10.0}\n"
     ]
    }
   ],
   "source": [
    "#47. Create a set of the first `n` triangular numbers.\n",
    "s81 = []\n",
    "ns = int(input())\n",
    "for i in range(0,ns):\n",
    "    ts = (i*(i+1))/2\n",
    "    s81.append(ts)\n",
    "print(set(s81))"
   ]
  },
  {
   "cell_type": "code",
   "execution_count": 18,
   "id": "3a6b1d01-f084-46ac-b640-0ff8a843c10b",
   "metadata": {},
   "outputs": [
    {
     "data": {
      "text/plain": [
       "True"
      ]
     },
     "execution_count": 18,
     "metadata": {},
     "output_type": "execute_result"
    }
   ],
   "source": [
    "#48. Check if a set contains another set as a subset.\n",
    "s82 = {1,2,3}\n",
    "s83 = (1,2,3,4,5)\n",
    "s82.issubset(s83)"
   ]
  },
  {
   "cell_type": "code",
   "execution_count": 20,
   "id": "92ee918c-4693-4fef-89f9-c10a7ea701b3",
   "metadata": {},
   "outputs": [
    {
     "name": "stdin",
     "output_type": "stream",
     "text": [
      " 7\n"
     ]
    },
    {
     "name": "stdout",
     "output_type": "stream",
     "text": [
      "{0, 1}\n"
     ]
    }
   ],
   "source": [
    "#49. Create a set of alternating 1s and 0s of length `n`.\n",
    "nss = int(input())\n",
    "s84 = set((i % 2) for i in range(nss))\n",
    "print(s84)"
   ]
  },
  {
   "cell_type": "code",
   "execution_count": 27,
   "id": "2d43e804-167a-4d85-89ba-471bfad13833",
   "metadata": {},
   "outputs": [
    {
     "name": "stdout",
     "output_type": "stream",
     "text": [
      "{1, 2, 3, 4, 5, 6, 7, 8, 9}\n"
     ]
    }
   ],
   "source": [
    "#50. Merge multiple sets into one.\n",
    "s85 = {1,2,3}\n",
    "s86 = {4,5,6}\n",
    "s87 = {7,8,9}\n",
    "ms = s85.union(s86).union(s87)\n",
    "print(ms)"
   ]
  }
 ],
 "metadata": {
  "kernelspec": {
   "display_name": "Python 3 (ipykernel)",
   "language": "python",
   "name": "python3"
  },
  "language_info": {
   "codemirror_mode": {
    "name": "ipython",
    "version": 3
   },
   "file_extension": ".py",
   "mimetype": "text/x-python",
   "name": "python",
   "nbconvert_exporter": "python",
   "pygments_lexer": "ipython3",
   "version": "3.10.8"
  }
 },
 "nbformat": 4,
 "nbformat_minor": 5
}
